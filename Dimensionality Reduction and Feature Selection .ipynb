{
  "nbformat": 4,
  "nbformat_minor": 0,
  "metadata": {
    "colab": {
      "name": "ML_assignment3.ipynb",
      "provenance": [],
      "collapsed_sections": []
    },
    "kernelspec": {
      "name": "python3",
      "display_name": "Python 3"
    },
    "language_info": {
      "name": "python"
    }
  },
  "cells": [
    {
      "cell_type": "code",
      "metadata": {
        "colab": {
          "base_uri": "https://localhost:8080/"
        },
        "id": "SYnyUMrAWCrI",
        "outputId": "2078c07b-3fd6-426e-c85d-83154734525b"
      },
      "source": [
        "!pip install scikit-learn==1.0\n",
        "!pip install -U yellowbrick\n",
        "#!pip install mlxtend"
      ],
      "execution_count": 172,
      "outputs": [
        {
          "output_type": "stream",
          "name": "stdout",
          "text": [
            "Requirement already satisfied: scikit-learn==1.0 in /usr/local/lib/python3.7/dist-packages (1.0)\n",
            "Requirement already satisfied: threadpoolctl>=2.0.0 in /usr/local/lib/python3.7/dist-packages (from scikit-learn==1.0) (3.0.0)\n",
            "Requirement already satisfied: joblib>=0.11 in /usr/local/lib/python3.7/dist-packages (from scikit-learn==1.0) (1.1.0)\n",
            "Requirement already satisfied: scipy>=1.1.0 in /usr/local/lib/python3.7/dist-packages (from scikit-learn==1.0) (1.4.1)\n",
            "Requirement already satisfied: numpy>=1.14.6 in /usr/local/lib/python3.7/dist-packages (from scikit-learn==1.0) (1.19.5)\n",
            "Requirement already satisfied: yellowbrick in /usr/local/lib/python3.7/dist-packages (1.3.post1)\n",
            "Requirement already satisfied: matplotlib!=3.0.0,>=2.0.2 in /usr/local/lib/python3.7/dist-packages (from yellowbrick) (3.2.2)\n",
            "Requirement already satisfied: scikit-learn>=0.20 in /usr/local/lib/python3.7/dist-packages (from yellowbrick) (1.0)\n",
            "Requirement already satisfied: scipy>=1.0.0 in /usr/local/lib/python3.7/dist-packages (from yellowbrick) (1.4.1)\n",
            "Requirement already satisfied: cycler>=0.10.0 in /usr/local/lib/python3.7/dist-packages (from yellowbrick) (0.11.0)\n",
            "Requirement already satisfied: numpy<1.20,>=1.16.0 in /usr/local/lib/python3.7/dist-packages (from yellowbrick) (1.19.5)\n",
            "Requirement already satisfied: kiwisolver>=1.0.1 in /usr/local/lib/python3.7/dist-packages (from matplotlib!=3.0.0,>=2.0.2->yellowbrick) (1.3.2)\n",
            "Requirement already satisfied: python-dateutil>=2.1 in /usr/local/lib/python3.7/dist-packages (from matplotlib!=3.0.0,>=2.0.2->yellowbrick) (2.8.2)\n",
            "Requirement already satisfied: pyparsing!=2.0.4,!=2.1.2,!=2.1.6,>=2.0.1 in /usr/local/lib/python3.7/dist-packages (from matplotlib!=3.0.0,>=2.0.2->yellowbrick) (2.4.7)\n",
            "Requirement already satisfied: six>=1.5 in /usr/local/lib/python3.7/dist-packages (from python-dateutil>=2.1->matplotlib!=3.0.0,>=2.0.2->yellowbrick) (1.15.0)\n",
            "Requirement already satisfied: threadpoolctl>=2.0.0 in /usr/local/lib/python3.7/dist-packages (from scikit-learn>=0.20->yellowbrick) (3.0.0)\n",
            "Requirement already satisfied: joblib>=0.11 in /usr/local/lib/python3.7/dist-packages (from scikit-learn>=0.20->yellowbrick) (1.1.0)\n"
          ]
        }
      ]
    },
    {
      "cell_type": "code",
      "metadata": {
        "id": "saCLsnhZzMDb"
      },
      "source": [
        "import pandas as pd\n",
        "import numpy as np\n",
        "from sklearn.naive_bayes import GaussianNB\n",
        "from sklearn import svm\n",
        "#from yellowbrick.cluster import KElbowVisualizer\n",
        "from sklearn.cluster import KMeans\n",
        "from sklearn import metrics\n",
        "from sklearn.manifold import TSNE\n",
        "from sklearn.discriminant_analysis import LinearDiscriminantAnalysis \n",
        "\n",
        "from sklearn.decomposition import PCA\n",
        "#%matplotlib inline\n",
        "import matplotlib.pyplot as plt\n",
        "import plotly.express as px\n",
        "from mpl_toolkits.mplot3d import Axes3D\n",
        "import seaborn as sns\n",
        "from scipy.spatial.distance import cdist\n",
        "from sklearn.metrics import confusion_matrix\n",
        "from sklearn.metrics import ConfusionMatrixDisplay\n",
        "from sklearn.metrics import accuracy_score\n",
        "\n",
        "import sklearn"
      ],
      "execution_count": 173,
      "outputs": []
    },
    {
      "cell_type": "code",
      "metadata": {
        "id": "yZROBH39xiAJ",
        "colab": {
          "base_uri": "https://localhost:8080/"
        },
        "outputId": "b2be94ef-9910-4821-ff65-af0c9fd6164f"
      },
      "source": [
        "\n",
        "pokemon_train = pd.read_csv(\"/content/Pokemon_train.csv\")\n",
        "pokemon_test= pd.read_csv(\"/content/Pokemon_test.csv\")\n",
        "print(pokemon_train.head())\n",
        "print('size of the data : ' ,pokemon_train.shape)"
      ],
      "execution_count": 174,
      "outputs": [
        {
          "output_type": "stream",
          "name": "stdout",
          "text": [
            "   against_bug  against_dark  against_dragon  ...  sp_defense      speed  type1\n",
            "0     1.000000           1.0        1.000000  ...   50.000000  75.000000   rock\n",
            "1     0.990403           1.0        0.990403  ...   81.343524  25.287898   rock\n",
            "2     1.000000           1.0        1.000000  ...   50.000000  40.000000  water\n",
            "3     0.500000           1.0        1.000000  ...  107.252130  68.297445   fire\n",
            "4     0.334368           0.5        0.000000  ...  106.563172  73.250537  fairy\n",
            "\n",
            "[5 rows x 33 columns]\n",
            "size of the data :  (1251, 33)\n"
          ]
        }
      ]
    },
    {
      "cell_type": "code",
      "metadata": {
        "id": "hVz6L0AZzesU",
        "colab": {
          "base_uri": "https://localhost:8080/"
        },
        "outputId": "ad95e17d-8365-44d4-eda7-886a01de786f"
      },
      "source": [
        "from sklearn.preprocessing import LabelEncoder\n",
        "LabelEncoder = LabelEncoder()\n",
        "pokemon_train[\"class\"]=LabelEncoder.fit_transform(pokemon_train[[\"type1\"]])\n",
        "\n",
        "x_train = np.array(pokemon_train.iloc[:,0:31])\n",
        "y_train = np.array(pokemon_train.iloc[:,32])\n",
        "x_test = np.array(pokemon_test.iloc[:,0:31])\n",
        "y_test = np.array(pokemon_test.iloc[:,32])"
      ],
      "execution_count": 175,
      "outputs": [
        {
          "output_type": "stream",
          "name": "stderr",
          "text": [
            "/usr/local/lib/python3.7/dist-packages/sklearn/preprocessing/_label.py:115: DataConversionWarning:\n",
            "\n",
            "A column-vector y was passed when a 1d array was expected. Please change the shape of y to (n_samples, ), for example using ravel().\n",
            "\n"
          ]
        }
      ]
    },
    {
      "cell_type": "code",
      "metadata": {
        "id": "j3gEXK1bwY83"
      },
      "source": [
        "cDict = {'bug':0, 'dark':1, 'dragon':2, 'electric':3, 'fairy':4, 'fighting':5, 'fire':6, 'ghost':7,\n",
        " 'grass':8, 'ground':9, 'ice':10, 'normal':11, 'poison':12, 'psychic':13, 'rock':14, 'steel':15, 'water':16}"
      ],
      "execution_count": 176,
      "outputs": []
    },
    {
      "cell_type": "code",
      "metadata": {
        "id": "U4akeFGRyJLm"
      },
      "source": [
        "train = np.array([ cDict[lab] for lab in y_train])\n",
        "test= np.array([ cDict[lab] for lab in y_test])"
      ],
      "execution_count": 177,
      "outputs": []
    },
    {
      "cell_type": "markdown",
      "metadata": {
        "id": "ZiBGwNgIC0pu"
      },
      "source": [
        "GNB & SVM"
      ]
    },
    {
      "cell_type": "code",
      "metadata": {
        "colab": {
          "base_uri": "https://localhost:8080/",
          "height": 434
        },
        "id": "w-n5Udx9XrCl",
        "outputId": "f3b2b079-57fe-44ec-9d45-85787d16c62c"
      },
      "source": [
        "pokemon_train"
      ],
      "execution_count": 178,
      "outputs": [
        {
          "output_type": "execute_result",
          "data": {
            "text/html": [
              "<div>\n",
              "<style scoped>\n",
              "    .dataframe tbody tr th:only-of-type {\n",
              "        vertical-align: middle;\n",
              "    }\n",
              "\n",
              "    .dataframe tbody tr th {\n",
              "        vertical-align: top;\n",
              "    }\n",
              "\n",
              "    .dataframe thead th {\n",
              "        text-align: right;\n",
              "    }\n",
              "</style>\n",
              "<table border=\"1\" class=\"dataframe\">\n",
              "  <thead>\n",
              "    <tr style=\"text-align: right;\">\n",
              "      <th></th>\n",
              "      <th>against_bug</th>\n",
              "      <th>against_dark</th>\n",
              "      <th>against_dragon</th>\n",
              "      <th>against_electric</th>\n",
              "      <th>against_fairy</th>\n",
              "      <th>against_fight</th>\n",
              "      <th>against_fire</th>\n",
              "      <th>against_flying</th>\n",
              "      <th>against_ghost</th>\n",
              "      <th>against_grass</th>\n",
              "      <th>against_ground</th>\n",
              "      <th>against_ice</th>\n",
              "      <th>against_normal</th>\n",
              "      <th>against_poison</th>\n",
              "      <th>against_psychic</th>\n",
              "      <th>against_rock</th>\n",
              "      <th>against_steel</th>\n",
              "      <th>against_water</th>\n",
              "      <th>attack</th>\n",
              "      <th>base_egg_steps</th>\n",
              "      <th>base_happiness</th>\n",
              "      <th>base_total</th>\n",
              "      <th>capture_rate</th>\n",
              "      <th>defense</th>\n",
              "      <th>experience_growth</th>\n",
              "      <th>height_m</th>\n",
              "      <th>hp</th>\n",
              "      <th>percentage_male</th>\n",
              "      <th>pokedex_number</th>\n",
              "      <th>sp_attack</th>\n",
              "      <th>sp_defense</th>\n",
              "      <th>speed</th>\n",
              "      <th>type1</th>\n",
              "      <th>class</th>\n",
              "    </tr>\n",
              "  </thead>\n",
              "  <tbody>\n",
              "    <tr>\n",
              "      <th>0</th>\n",
              "      <td>1.000000</td>\n",
              "      <td>1.0</td>\n",
              "      <td>1.000000</td>\n",
              "      <td>1.000000</td>\n",
              "      <td>1.000000</td>\n",
              "      <td>1.000000</td>\n",
              "      <td>1.000000</td>\n",
              "      <td>1.000000</td>\n",
              "      <td>1.0</td>\n",
              "      <td>1.000000</td>\n",
              "      <td>1.000000</td>\n",
              "      <td>1.000000</td>\n",
              "      <td>0.500000</td>\n",
              "      <td>0.500000</td>\n",
              "      <td>1.000000</td>\n",
              "      <td>2.000000</td>\n",
              "      <td>2.000000</td>\n",
              "      <td>2.000000</td>\n",
              "      <td>95.000000</td>\n",
              "      <td>7680.000000</td>\n",
              "      <td>70.000000</td>\n",
              "      <td>355.000000</td>\n",
              "      <td>45.000000</td>\n",
              "      <td>50.000000</td>\n",
              "      <td>6.000000e+05</td>\n",
              "      <td>0.700000</td>\n",
              "      <td>45.000000</td>\n",
              "      <td>88.100000</td>\n",
              "      <td>347.000000</td>\n",
              "      <td>40.000000</td>\n",
              "      <td>50.000000</td>\n",
              "      <td>75.000000</td>\n",
              "      <td>rock</td>\n",
              "      <td>14</td>\n",
              "    </tr>\n",
              "    <tr>\n",
              "      <th>1</th>\n",
              "      <td>0.990403</td>\n",
              "      <td>1.0</td>\n",
              "      <td>0.990403</td>\n",
              "      <td>1.000000</td>\n",
              "      <td>0.990403</td>\n",
              "      <td>2.038386</td>\n",
              "      <td>0.509597</td>\n",
              "      <td>0.495202</td>\n",
              "      <td>1.0</td>\n",
              "      <td>1.980807</td>\n",
              "      <td>2.038386</td>\n",
              "      <td>0.990403</td>\n",
              "      <td>0.495202</td>\n",
              "      <td>0.490403</td>\n",
              "      <td>0.990403</td>\n",
              "      <td>0.990403</td>\n",
              "      <td>1.980807</td>\n",
              "      <td>2.000000</td>\n",
              "      <td>133.464544</td>\n",
              "      <td>3864.567294</td>\n",
              "      <td>70.000000</td>\n",
              "      <td>515.191932</td>\n",
              "      <td>45.287898</td>\n",
              "      <td>130.287898</td>\n",
              "      <td>1.058711e+06</td>\n",
              "      <td>1.694242</td>\n",
              "      <td>84.520170</td>\n",
              "      <td>50.000000</td>\n",
              "      <td>525.040340</td>\n",
              "      <td>60.287898</td>\n",
              "      <td>81.343524</td>\n",
              "      <td>25.287898</td>\n",
              "      <td>rock</td>\n",
              "      <td>14</td>\n",
              "    </tr>\n",
              "    <tr>\n",
              "      <th>2</th>\n",
              "      <td>1.000000</td>\n",
              "      <td>1.0</td>\n",
              "      <td>1.000000</td>\n",
              "      <td>2.000000</td>\n",
              "      <td>1.000000</td>\n",
              "      <td>1.000000</td>\n",
              "      <td>0.500000</td>\n",
              "      <td>1.000000</td>\n",
              "      <td>1.0</td>\n",
              "      <td>2.000000</td>\n",
              "      <td>1.000000</td>\n",
              "      <td>0.500000</td>\n",
              "      <td>1.000000</td>\n",
              "      <td>1.000000</td>\n",
              "      <td>1.000000</td>\n",
              "      <td>1.000000</td>\n",
              "      <td>0.500000</td>\n",
              "      <td>0.500000</td>\n",
              "      <td>70.000000</td>\n",
              "      <td>5120.000000</td>\n",
              "      <td>70.000000</td>\n",
              "      <td>310.000000</td>\n",
              "      <td>45.000000</td>\n",
              "      <td>50.000000</td>\n",
              "      <td>1.059860e+06</td>\n",
              "      <td>0.400000</td>\n",
              "      <td>50.000000</td>\n",
              "      <td>88.100000</td>\n",
              "      <td>258.000000</td>\n",
              "      <td>50.000000</td>\n",
              "      <td>50.000000</td>\n",
              "      <td>40.000000</td>\n",
              "      <td>water</td>\n",
              "      <td>16</td>\n",
              "    </tr>\n",
              "    <tr>\n",
              "      <th>3</th>\n",
              "      <td>0.500000</td>\n",
              "      <td>1.0</td>\n",
              "      <td>1.000000</td>\n",
              "      <td>1.000000</td>\n",
              "      <td>0.500000</td>\n",
              "      <td>1.000000</td>\n",
              "      <td>0.500000</td>\n",
              "      <td>1.000000</td>\n",
              "      <td>1.0</td>\n",
              "      <td>0.500000</td>\n",
              "      <td>2.000000</td>\n",
              "      <td>0.500000</td>\n",
              "      <td>1.000000</td>\n",
              "      <td>1.000000</td>\n",
              "      <td>1.000000</td>\n",
              "      <td>2.000000</td>\n",
              "      <td>0.500000</td>\n",
              "      <td>2.000000</td>\n",
              "      <td>123.588302</td>\n",
              "      <td>8491.030113</td>\n",
              "      <td>70.000000</td>\n",
              "      <td>527.747870</td>\n",
              "      <td>42.252130</td>\n",
              "      <td>61.282340</td>\n",
              "      <td>1.000000e+06</td>\n",
              "      <td>1.028234</td>\n",
              "      <td>66.831914</td>\n",
              "      <td>85.773470</td>\n",
              "      <td>196.636341</td>\n",
              "      <td>100.495741</td>\n",
              "      <td>107.252130</td>\n",
              "      <td>68.297445</td>\n",
              "      <td>fire</td>\n",
              "      <td>6</td>\n",
              "    </tr>\n",
              "    <tr>\n",
              "      <th>4</th>\n",
              "      <td>0.334368</td>\n",
              "      <td>0.5</td>\n",
              "      <td>0.000000</td>\n",
              "      <td>1.662527</td>\n",
              "      <td>1.000000</td>\n",
              "      <td>0.334368</td>\n",
              "      <td>1.000000</td>\n",
              "      <td>1.000000</td>\n",
              "      <td>1.0</td>\n",
              "      <td>0.668737</td>\n",
              "      <td>0.337473</td>\n",
              "      <td>1.662527</td>\n",
              "      <td>1.000000</td>\n",
              "      <td>2.000000</td>\n",
              "      <td>1.000000</td>\n",
              "      <td>1.662527</td>\n",
              "      <td>2.000000</td>\n",
              "      <td>1.000000</td>\n",
              "      <td>56.749463</td>\n",
              "      <td>2560.000000</td>\n",
              "      <td>93.623119</td>\n",
              "      <td>524.076666</td>\n",
              "      <td>28.312634</td>\n",
              "      <td>87.575591</td>\n",
              "      <td>8.000000e+05</td>\n",
              "      <td>1.432505</td>\n",
              "      <td>88.374731</td>\n",
              "      <td>66.670456</td>\n",
              "      <td>322.211607</td>\n",
              "      <td>111.563172</td>\n",
              "      <td>106.563172</td>\n",
              "      <td>73.250537</td>\n",
              "      <td>fairy</td>\n",
              "      <td>4</td>\n",
              "    </tr>\n",
              "    <tr>\n",
              "      <th>...</th>\n",
              "      <td>...</td>\n",
              "      <td>...</td>\n",
              "      <td>...</td>\n",
              "      <td>...</td>\n",
              "      <td>...</td>\n",
              "      <td>...</td>\n",
              "      <td>...</td>\n",
              "      <td>...</td>\n",
              "      <td>...</td>\n",
              "      <td>...</td>\n",
              "      <td>...</td>\n",
              "      <td>...</td>\n",
              "      <td>...</td>\n",
              "      <td>...</td>\n",
              "      <td>...</td>\n",
              "      <td>...</td>\n",
              "      <td>...</td>\n",
              "      <td>...</td>\n",
              "      <td>...</td>\n",
              "      <td>...</td>\n",
              "      <td>...</td>\n",
              "      <td>...</td>\n",
              "      <td>...</td>\n",
              "      <td>...</td>\n",
              "      <td>...</td>\n",
              "      <td>...</td>\n",
              "      <td>...</td>\n",
              "      <td>...</td>\n",
              "      <td>...</td>\n",
              "      <td>...</td>\n",
              "      <td>...</td>\n",
              "      <td>...</td>\n",
              "      <td>...</td>\n",
              "      <td>...</td>\n",
              "    </tr>\n",
              "    <tr>\n",
              "      <th>1246</th>\n",
              "      <td>1.000000</td>\n",
              "      <td>1.0</td>\n",
              "      <td>1.000000</td>\n",
              "      <td>0.500000</td>\n",
              "      <td>1.000000</td>\n",
              "      <td>1.000000</td>\n",
              "      <td>1.000000</td>\n",
              "      <td>0.500000</td>\n",
              "      <td>1.0</td>\n",
              "      <td>1.000000</td>\n",
              "      <td>2.000000</td>\n",
              "      <td>1.000000</td>\n",
              "      <td>1.000000</td>\n",
              "      <td>1.000000</td>\n",
              "      <td>1.000000</td>\n",
              "      <td>1.000000</td>\n",
              "      <td>0.500000</td>\n",
              "      <td>1.000000</td>\n",
              "      <td>59.114137</td>\n",
              "      <td>5120.000000</td>\n",
              "      <td>70.000000</td>\n",
              "      <td>434.308344</td>\n",
              "      <td>160.178881</td>\n",
              "      <td>54.141396</td>\n",
              "      <td>1.000000e+06</td>\n",
              "      <td>0.782283</td>\n",
              "      <td>64.778534</td>\n",
              "      <td>50.000000</td>\n",
              "      <td>379.218049</td>\n",
              "      <td>76.592845</td>\n",
              "      <td>77.991483</td>\n",
              "      <td>101.689948</td>\n",
              "      <td>electric</td>\n",
              "      <td>3</td>\n",
              "    </tr>\n",
              "    <tr>\n",
              "      <th>1247</th>\n",
              "      <td>0.250000</td>\n",
              "      <td>0.5</td>\n",
              "      <td>0.000000</td>\n",
              "      <td>2.000000</td>\n",
              "      <td>1.000000</td>\n",
              "      <td>0.250000</td>\n",
              "      <td>1.000000</td>\n",
              "      <td>1.000000</td>\n",
              "      <td>1.0</td>\n",
              "      <td>0.500000</td>\n",
              "      <td>0.000000</td>\n",
              "      <td>2.000000</td>\n",
              "      <td>1.000000</td>\n",
              "      <td>2.000000</td>\n",
              "      <td>1.000000</td>\n",
              "      <td>2.000000</td>\n",
              "      <td>2.000000</td>\n",
              "      <td>1.000000</td>\n",
              "      <td>46.039017</td>\n",
              "      <td>2560.000000</td>\n",
              "      <td>70.000000</td>\n",
              "      <td>489.546241</td>\n",
              "      <td>47.824422</td>\n",
              "      <td>91.039017</td>\n",
              "      <td>8.000000e+05</td>\n",
              "      <td>1.143512</td>\n",
              "      <td>73.117052</td>\n",
              "      <td>88.100000</td>\n",
              "      <td>352.339304</td>\n",
              "      <td>104.156069</td>\n",
              "      <td>111.039017</td>\n",
              "      <td>64.156069</td>\n",
              "      <td>fairy</td>\n",
              "      <td>4</td>\n",
              "    </tr>\n",
              "    <tr>\n",
              "      <th>1248</th>\n",
              "      <td>1.000000</td>\n",
              "      <td>1.0</td>\n",
              "      <td>1.000000</td>\n",
              "      <td>1.000000</td>\n",
              "      <td>1.000000</td>\n",
              "      <td>2.000000</td>\n",
              "      <td>2.000000</td>\n",
              "      <td>1.000000</td>\n",
              "      <td>1.0</td>\n",
              "      <td>1.000000</td>\n",
              "      <td>1.000000</td>\n",
              "      <td>0.500000</td>\n",
              "      <td>1.000000</td>\n",
              "      <td>1.000000</td>\n",
              "      <td>1.000000</td>\n",
              "      <td>2.000000</td>\n",
              "      <td>2.000000</td>\n",
              "      <td>1.000000</td>\n",
              "      <td>56.924721</td>\n",
              "      <td>7779.092938</td>\n",
              "      <td>45.763476</td>\n",
              "      <td>455.806227</td>\n",
              "      <td>89.591543</td>\n",
              "      <td>91.548327</td>\n",
              "      <td>1.000000e+06</td>\n",
              "      <td>0.769247</td>\n",
              "      <td>60.387082</td>\n",
              "      <td>76.383188</td>\n",
              "      <td>437.171933</td>\n",
              "      <td>105.397770</td>\n",
              "      <td>81.161245</td>\n",
              "      <td>60.387082</td>\n",
              "      <td>ice</td>\n",
              "      <td>10</td>\n",
              "    </tr>\n",
              "    <tr>\n",
              "      <th>1249</th>\n",
              "      <td>0.918972</td>\n",
              "      <td>1.0</td>\n",
              "      <td>1.000000</td>\n",
              "      <td>0.324110</td>\n",
              "      <td>1.000000</td>\n",
              "      <td>0.459486</td>\n",
              "      <td>2.000000</td>\n",
              "      <td>2.000000</td>\n",
              "      <td>1.0</td>\n",
              "      <td>0.878459</td>\n",
              "      <td>0.418972</td>\n",
              "      <td>2.000000</td>\n",
              "      <td>1.000000</td>\n",
              "      <td>0.581028</td>\n",
              "      <td>1.000000</td>\n",
              "      <td>1.486165</td>\n",
              "      <td>1.000000</td>\n",
              "      <td>1.837945</td>\n",
              "      <td>52.292479</td>\n",
              "      <td>3840.000000</td>\n",
              "      <td>70.000000</td>\n",
              "      <td>296.790468</td>\n",
              "      <td>233.122563</td>\n",
              "      <td>82.707521</td>\n",
              "      <td>6.000000e+05</td>\n",
              "      <td>0.548617</td>\n",
              "      <td>35.861653</td>\n",
              "      <td>50.000000</td>\n",
              "      <td>290.162055</td>\n",
              "      <td>33.241102</td>\n",
              "      <td>33.241102</td>\n",
              "      <td>59.446611</td>\n",
              "      <td>bug</td>\n",
              "      <td>0</td>\n",
              "    </tr>\n",
              "    <tr>\n",
              "      <th>1250</th>\n",
              "      <td>0.958361</td>\n",
              "      <td>1.0</td>\n",
              "      <td>2.000000</td>\n",
              "      <td>0.083277</td>\n",
              "      <td>2.000000</td>\n",
              "      <td>0.958361</td>\n",
              "      <td>0.500000</td>\n",
              "      <td>1.000000</td>\n",
              "      <td>1.0</td>\n",
              "      <td>0.937542</td>\n",
              "      <td>0.916723</td>\n",
              "      <td>4.000000</td>\n",
              "      <td>1.000000</td>\n",
              "      <td>0.541639</td>\n",
              "      <td>1.000000</td>\n",
              "      <td>0.624916</td>\n",
              "      <td>1.000000</td>\n",
              "      <td>0.958361</td>\n",
              "      <td>91.665541</td>\n",
              "      <td>9813.621525</td>\n",
              "      <td>70.000000</td>\n",
              "      <td>424.989868</td>\n",
              "      <td>45.000000</td>\n",
              "      <td>68.747467</td>\n",
              "      <td>1.195870e+06</td>\n",
              "      <td>1.375017</td>\n",
              "      <td>68.582939</td>\n",
              "      <td>50.000000</td>\n",
              "      <td>434.839525</td>\n",
              "      <td>54.996623</td>\n",
              "      <td>59.163852</td>\n",
              "      <td>81.833446</td>\n",
              "      <td>dragon</td>\n",
              "      <td>2</td>\n",
              "    </tr>\n",
              "  </tbody>\n",
              "</table>\n",
              "<p>1251 rows × 34 columns</p>\n",
              "</div>"
            ],
            "text/plain": [
              "      against_bug  against_dark  against_dragon  ...       speed     type1  class\n",
              "0        1.000000           1.0        1.000000  ...   75.000000      rock     14\n",
              "1        0.990403           1.0        0.990403  ...   25.287898      rock     14\n",
              "2        1.000000           1.0        1.000000  ...   40.000000     water     16\n",
              "3        0.500000           1.0        1.000000  ...   68.297445      fire      6\n",
              "4        0.334368           0.5        0.000000  ...   73.250537     fairy      4\n",
              "...           ...           ...             ...  ...         ...       ...    ...\n",
              "1246     1.000000           1.0        1.000000  ...  101.689948  electric      3\n",
              "1247     0.250000           0.5        0.000000  ...   64.156069     fairy      4\n",
              "1248     1.000000           1.0        1.000000  ...   60.387082       ice     10\n",
              "1249     0.918972           1.0        1.000000  ...   59.446611       bug      0\n",
              "1250     0.958361           1.0        2.000000  ...   81.833446    dragon      2\n",
              "\n",
              "[1251 rows x 34 columns]"
            ]
          },
          "metadata": {},
          "execution_count": 178
        }
      ]
    },
    {
      "cell_type": "code",
      "metadata": {
        "id": "jxehaTfGIEKY",
        "colab": {
          "base_uri": "https://localhost:8080/"
        },
        "outputId": "63c1c28f-a7d0-4cd4-dc6d-8b5e7f877074"
      },
      "source": [
        "GNB = GaussianNB()\n",
        "GNB.fit(x_train ,y_train)\n",
        "SV = svm.SVC()\n",
        "SV.fit(x_train,y_train)"
      ],
      "execution_count": 179,
      "outputs": [
        {
          "output_type": "execute_result",
          "data": {
            "text/plain": [
              "SVC()"
            ]
          },
          "metadata": {},
          "execution_count": 179
        }
      ]
    },
    {
      "cell_type": "code",
      "metadata": {
        "id": "NzX2zNmyPgjI",
        "colab": {
          "base_uri": "https://localhost:8080/",
          "height": 396
        },
        "outputId": "51f54a1a-fb19-4a86-b230-29ee28985f69"
      },
      "source": [
        "GNB = GaussianNB()\n",
        "GNB.fit(x_train ,y_train)\n",
        "SV = svm.SVC()\n",
        "SV.fit(x_train,y_train)\n",
        "ypred_GNB = GNB.predict(x_test)\n",
        "ypred_SV = SV.predict(x_test)\n",
        "GNB_acc = metrics.accuracy_score(y_test ,ypred_GNB)\n",
        "print (\"accuracy for GNB : \" , GNB_acc*100)\n",
        "SV_acc = metrics.accuracy_score(y_test , ypred_SV)\n",
        "print (\"accuracy for SVM : \" , SV_acc*100)\n",
        "\n",
        "disp = ConfusionMatrixDisplay.from_predictions(y_test, ypred_GNB)\n",
        "# fig, ax = plt.subplots()\n",
        "# disp = disp.plot(cmap=plt.cm.Blues)\n",
        "plt.show()\n",
        "# .plot(ax=ax)\n"
      ],
      "execution_count": 190,
      "outputs": [
        {
          "output_type": "stream",
          "name": "stdout",
          "text": [
            "accuracy for GNB :  52.715654952076676\n",
            "accuracy for SVM :  12.140575079872203\n"
          ]
        },
        {
          "output_type": "display_data",
          "data": {
            "image/png": "[encoded data removed]",
            "text/plain": [
              "<Figure size 576x396 with 2 Axes>"
            ]
          },
          "metadata": {}
        }
      ]
    },
    {
      "cell_type": "code",
      "metadata": {
        "colab": {
          "base_uri": "https://localhost:8080/",
          "height": 378
        },
        "id": "sUW6sdYDLTIt",
        "outputId": "1d9411d8-d670-43f9-b10d-92bae27c907e"
      },
      "source": [
        "\n",
        "ConfusionMatrixDisplay.from_predictions(y_test, ypred_SV).plot(ax=ax)"
      ],
      "execution_count": 185,
      "outputs": [
        {
          "output_type": "execute_result",
          "data": {
            "text/plain": [
              "<sklearn.metrics._plot.confusion_matrix.ConfusionMatrixDisplay at 0x7f30aeff5650>"
            ]
          },
          "metadata": {},
          "execution_count": 185
        },
        {
          "output_type": "display_data",
          "data": {
            "image/png": "[encoded data removed]",
            "text/plain": [
              "<Figure size 576x396 with 2 Axes>"
            ]
          },
          "metadata": {}
        }
      ]
    },
    {
      "cell_type": "code",
      "metadata": {
        "id": "TDkQqwO1TepR"
      },
      "source": [
        "tsne = TSNE(n_components=2, random_state=0)\n",
        "Xtrain_tsne = tsne.fit_transform(x_train)\n",
        "Xtest_tsne = tsne.fit_transform(x_test)\n"
      ],
      "execution_count": null,
      "outputs": []
    },
    {
      "cell_type": "code",
      "metadata": {
        "id": "PyQIUnH96bxd"
      },
      "source": [
        "tsne = TSNE(n_components=2, random_state=0)\n",
        "com_tsne = tsne.fit_transform(x_train)\n",
        "com_tsne_nw = pd.DataFrame(com_tsne)\n",
        "com_tsne_nw[\"class\"] = pokemon_train[\"class\"]\n",
        "#com_tsne_nw\n",
        "fig = px.scatter(\n",
        "    com_tsne_nw, x=0, y=1 ,color=\"class\" ,title='data after applying tsna'\n",
        ")\n",
        "#fig.title('data after applying tsna')\n",
        "fig.show()"
      ],
      "execution_count": null,
      "outputs": []
    },
    {
      "cell_type": "code",
      "metadata": {
        "id": "rS2epCH7Imol"
      },
      "source": [
        "GNB.fit(Xtrain_tsne, y_train)\n",
        "yPred_tsne = GNB.predict(Xtest_tsne)\n",
        "acc_tsne = metrics.accuracy_score(y_test, yPred_tsne) * 100"
      ],
      "execution_count": null,
      "outputs": []
    },
    {
      "cell_type": "code",
      "metadata": {
        "id": "zPycjSZVhZDk"
      },
      "source": [
        "acc_tsne"
      ],
      "execution_count": null,
      "outputs": []
    },
    {
      "cell_type": "code",
      "metadata": {
        "id": "qQskr0Obhitu"
      },
      "source": [
        "cls_new = []\n",
        "clas = list(set(y_train))\n",
        "for i in range(len(clas)):\n",
        "  cls_new.append(i)"
      ],
      "execution_count": null,
      "outputs": []
    },
    {
      "cell_type": "code",
      "metadata": {
        "id": "kSdd8JCSpIME"
      },
      "source": [
        "plt.scatter(Xtrain_tsne[:,0],Xtrain_tsne[:,1] ,label=y_train , marker='o')"
      ],
      "execution_count": null,
      "outputs": []
    },
    {
      "cell_type": "markdown",
      "metadata": {
        "id": "eQbf_43k3CyG"
      },
      "source": [
        "3 (kmeans) , visyalize the data with tsna"
      ]
    },
    {
      "cell_type": "code",
      "metadata": {
        "id": "X6HYRpGdedl3"
      },
      "source": [
        "from sklearn.cluster import KMeans\n",
        "\n",
        "from yellowbrick.cluster import KElbowVisualizer\n",
        "\n",
        "# Instantiate the clustering model and visualizer\n",
        "model = KMeans()\n",
        "visualizer = KElbowVisualizer(model, k=(2,15) ,title='The Elbow Method showing the optimal k' ,fontsize='16')\n",
        "\n",
        "visualizer.fit(x_train)        # Fit the data to the visualizer\n",
        "visualizer.show() "
      ],
      "execution_count": null,
      "outputs": []
    },
    {
      "cell_type": "code",
      "metadata": {
        "id": "TSHS_gF4aRKd"
      },
      "source": [
        "#from the figure we can see that the best number of cluster starts from 4\n",
        "new_model = KMeans(n_clusters=4,random_state=0)\n",
        "km_labels =new_model.fit_predict(x_train)\n",
        "#ypred = new_model.predict(y_test)"
      ],
      "execution_count": null,
      "outputs": []
    },
    {
      "cell_type": "code",
      "metadata": {
        "id": "bbK7LL7ussm7"
      },
      "source": [
        "#set(km_labels)\n",
        "clusters = []\n",
        "markers = ['o','x','*','+','^']\n",
        "col=['r','g','b','y','black']\n",
        "for i in range(len(km_labels)):\n",
        "   if km_labels[i] == 0:\n",
        "    c1 = plt.scatter(Xtrain_tsne[i,0],Xtrain_tsne[i,1],c='r', marker='o')\n",
        "   elif km_labels[i] == 1:\n",
        "    c2 = plt.scatter(Xtrain_tsne[i,0],Xtrain_tsne[i,1],c='g', marker='+')\n",
        "   elif km_labels[i] == 2:\n",
        "    c3 = plt.scatter(Xtrain_tsne[i,0],Xtrain_tsne[i,1],c='b', marker='*')\n",
        "   elif km_labels[i] == 3:\n",
        "    c4 = plt.scatter(Xtrain_tsne[i,0],Xtrain_tsne[i,1],c='y', marker='x')\n",
        "   elif km_labels[i] == 4:\n",
        "    c5 = plt.scatter(Xtrain_tsne[i,0],Xtrain_tsne[i,1],c='black', marker='<')\n",
        "plt.legend([c1, c2, c3 , c4 ],['Cluster 0', 'Cluster 1',\n",
        "  'Cluster 2' , 'Cluster 3' ])\n",
        "plt.title('K-means clusters into 4 clusters', fontsize='17')\n",
        "plt.show()"
      ],
      "execution_count": null,
      "outputs": []
    },
    {
      "cell_type": "markdown",
      "metadata": {
        "id": "3TyZs9Tc5nIe"
      },
      "source": [
        "# (4)Dimensionality Reduction (DR) methods (PCA)"
      ]
    },
    {
      "cell_type": "code",
      "metadata": {
        "id": "dOUSh7HD2HLu"
      },
      "source": [
        "# (1) GNB classifiers test accuracies\n",
        "acc_list =[]\n",
        "n_components =[]\n",
        "for n in range(1,32):\n",
        "  pca =PCA(n_components=n, random_state=0)\n",
        "  XTr_pca = pca.fit_transform(x_train)\n",
        "  XTs_pca = pca.fit_transform(x_test)\n",
        "  GNB.fit(XTr_pca,y_train)\n",
        "  ypred_GNBDR=GNB.predict(XTs_pca)\n",
        "  acc_n = metrics.accuracy_score(y_test ,ypred_GNBDR)*100\n",
        "  acc_list.append(acc_n)\n",
        "  n_components.append(n)"
      ],
      "execution_count": null,
      "outputs": []
    },
    {
      "cell_type": "code",
      "metadata": {
        "id": "rstgoQulFRrg"
      },
      "source": [
        "plt.plot(n_components ,acc_list,'bx-')\n",
        "plt.axhline(y=(GNB_acc*100), color='r', linestyle='-')\n",
        "plt.xlabel('number of features',fontsize = 16)\n",
        "plt.ylabel('Accuracy %',fontsize = 16)\n",
        "plt.title('DR with PCA method for (GNB)' ,fontsize = 16)\n",
        "\n",
        "plt.show\n",
        "\n",
        "max_y = max(acc_list)  # Find the maximum accuracy value\n",
        "max_x = n_components[acc_list.index(max_y)]  # Find the the number of component value corresponding to the maximum  accuracy\n",
        "plt.axvline(x=max_x,color='black' , linestyle=':')\n",
        "print (\"max accuracy :\" , max_y)\n",
        "print (\"corresponding max n_cmponents :\" , max_x)"
      ],
      "execution_count": null,
      "outputs": []
    },
    {
      "cell_type": "code",
      "metadata": {
        "id": "UDviqeVxLw2e"
      },
      "source": [
        "#(2) SVM classifiers test accuracies\n",
        "acc_list2 =[]\n",
        "n_components2 =[]\n",
        "for n in range(1,32):\n",
        "  pca =PCA(n_components=n, random_state=54)\n",
        "  XTr_pca1 = pca.fit_transform(x_train)\n",
        "  XTs_pca1 = pca.fit_transform(x_test)\n",
        "  SV.fit(XTr_pca1,y_train)\n",
        "  ypred_SVDR=SV.predict(XTs_pca1)\n",
        "  acc_n = metrics.accuracy_score(y_test ,ypred_SVDR)*100\n",
        "  acc_list2.append(acc_n)\n",
        "  n_components2.append(n)"
      ],
      "execution_count": null,
      "outputs": []
    },
    {
      "cell_type": "code",
      "metadata": {
        "id": "htHXTRFYTrFK"
      },
      "source": [
        "plt.plot(n_components2 ,acc_list2,'bx-')\n",
        "plt.axhline(y=(SV_acc*100), color='r', linestyle='-')\n",
        "plt.xlabel('number of features',fontsize = 16)\n",
        "plt.ylabel('Accuracy %',fontsize = 16)\n",
        "plt.title('DR with PCA method for (SVM)' ,fontsize = 16)\n",
        "plt.show\n",
        "\n",
        "max_y = max(acc_list2)  # Find the maximum accuracy value\n",
        "max_x = n_components[acc_list2.index(max_y)]  # Find the the number of component value corresponding to the maximum  accuracy\n",
        "plt.axvline(x=max_x,color='black' , linestyle=':')\n",
        "print (\"max accuracy :\" , max_y)\n",
        "print (\"corresponding max n_cmponents :\" , max_x)"
      ],
      "execution_count": null,
      "outputs": []
    },
    {
      "cell_type": "markdown",
      "metadata": {
        "id": "UtOLX8KbWPsH"
      },
      "source": [
        "(4)Dimensionality Reduction (DR) methods (LDA)"
      ]
    },
    {
      "cell_type": "code",
      "metadata": {
        "id": "s_iVLPYEVTN_"
      },
      "source": [
        "# (1) GNB classifiers test accuracies\n",
        "acc_list11 =[]\n",
        "n_components11 =[]\n",
        "for n in range(1,17):\n",
        "  LDA = LinearDiscriminantAnalysis(n_components=n)\n",
        "  XTr_lda =LDA.fit_transform(x_train,y_train)\n",
        "  XTs_lda =LDA.transform(x_test) \n",
        "  GNB.fit(XTr_lda,y_train)\n",
        "  ypred_GNBlda=GNB.predict(XTs_lda)\n",
        "  if n ==10:\n",
        "    xtr_max_lda =XTr_lda\n",
        "    xts_max_lda = XTs_lda\n",
        "    #ytr_max_lda =LDA.transform(y_train)\n",
        "  acc_n = metrics.accuracy_score(y_test ,ypred_GNBlda)*100\n",
        "  acc_list11.append(acc_n)\n",
        "  n_components11.append(n)"
      ],
      "execution_count": null,
      "outputs": []
    },
    {
      "cell_type": "code",
      "metadata": {
        "id": "TyOlRPZ4McOn"
      },
      "source": [
        "xtr_max_lda1=sklearn.preprocessing.MinMaxScaler().fit_transform(xtr_max_lda)\n",
        "xts_max_lda1=sklearn.preprocessing.MinMaxScaler().fit_transform(xts_max_lda)\n"
      ],
      "execution_count": null,
      "outputs": []
    },
    {
      "cell_type": "code",
      "metadata": {
        "id": "StN1UZcEWNxk"
      },
      "source": [
        "plt.plot(n_components11 ,acc_list11,'bx-')\n",
        "plt.axhline(y=(GNB_acc*100), color='r', linestyle='-')\n",
        "plt.xlabel('number of features',fontsize = 16)\n",
        "plt.ylabel('Accuracy %',fontsize = 16)\n",
        "plt.title('DR with LDA method for (GNB)' ,fontsize = 16)\n",
        "plt.show\n",
        "\n",
        "max_y1= max(acc_list11)  # Find the maximum accuracy value\n",
        "max_x1= n_components11[acc_list11.index(max_y1)]  # Find the the number of component value corresponding to the maximum  accuracy\n",
        "plt.axvline(x=max_x1,color='black' , linestyle=':')  #pionting at the highest nymber of features \n",
        "print (\"max accuracy :\" , max_y1)\n",
        "print (\"corresponding max n_cmponents :\" , max_x1)"
      ],
      "execution_count": null,
      "outputs": []
    },
    {
      "cell_type": "code",
      "metadata": {
        "id": "qf1CatTQfMlk"
      },
      "source": [
        "# (2) SVM classifiers test accuracies\n",
        "acc_list22 =[]\n",
        "n_components22 =[]\n",
        "for n in range(1,16):\n",
        "  LDA = LinearDiscriminantAnalysis(n_components=n)\n",
        "  XTr_lda1 =LDA.fit_transform(x_train,y_train)\n",
        "  XTs_lda1 =LDA.transform(x_test) \n",
        "  SV.fit(XTr_lda1,y_train)\n",
        "  ypred_SVlda=SV.predict(XTs_lda1)\n",
        "  if n ==10:\n",
        "    xtr_max_lda_SV =XTr_lda\n",
        "    xts_max_lda_SV = XTs_lda\n",
        "  acc_n = metrics.accuracy_score(y_test ,ypred_SVlda)*100\n",
        "  acc_list22.append(acc_n)\n",
        "  n_components22.append(n)"
      ],
      "execution_count": null,
      "outputs": []
    },
    {
      "cell_type": "code",
      "metadata": {
        "id": "nKEorcMeRz__"
      },
      "source": [
        "xtr_max_lda2=sklearn.preprocessing.MinMaxScaler().fit_transform(xtr_max_lda_SV)\n",
        "xts_max_lda2=sklearn.preprocessing.MinMaxScaler().fit_transform(xts_max_lda_SV)\n"
      ],
      "execution_count": null,
      "outputs": []
    },
    {
      "cell_type": "code",
      "metadata": {
        "id": "LF3lfcVmf-DJ"
      },
      "source": [
        "plt.plot(n_components22 ,acc_list22,'bx-')\n",
        "plt.axhline(y=(SV_acc*100), color='r', linestyle='-')\n",
        "plt.xlabel('number of features',fontsize = 16)\n",
        "plt.ylabel('Accuracy %',fontsize = 16)\n",
        "plt.title('DR with LDA method for(SVM)' ,fontsize = 16)\n",
        "plt.show\n",
        "\n",
        "max_y2= max(acc_list22)  # Find the maximum accuracy value\n",
        "max_x2= n_components22[acc_list22.index(max_y2)]  # Find the the number of component value corresponding to the maximum  accuracy\n",
        "plt.axvline(x=max_x2,color='black' , linestyle=':')\n",
        "print (\"max accuracy :\" , max_y2)\n",
        "print (\"corresponding max n_cmponents :\" , max_x2)"
      ],
      "execution_count": null,
      "outputs": []
    },
    {
      "cell_type": "code",
      "metadata": {
        "id": "3cUzj-n6VWPK"
      },
      "source": [
        "!apt sklearn.feature_selection"
      ],
      "execution_count": null,
      "outputs": []
    },
    {
      "cell_type": "code",
      "metadata": {
        "id": "31iLWKQqmUDQ"
      },
      "source": [
        "from sklearn.feature_selection import mutual_info_classif,chi2, f_classif\n",
        "from sklearn.feature_selection import SelectKBest\n",
        "from sklearn.feature_selection import SequentialFeatureSelector\n",
        "from sklearn.feature_selection import RFE"
      ],
      "execution_count": null,
      "outputs": []
    },
    {
      "cell_type": "markdown",
      "metadata": {
        "id": "hEg8_nexSt65"
      },
      "source": [
        "# (5)Feature Selection methods(filter)"
      ]
    },
    {
      "cell_type": "code",
      "metadata": {
        "id": "0VaSXUqM83oW"
      },
      "source": [
        "def select_feature(X_TR, y_TR, X_TS, y_TS, FSM, MODEL ,Best_feature = False):    #FSM : feature selection method\n",
        "  fs = FSM\n",
        "  fs.fit(X_TR, y_TR)\n",
        "  X_TR_new = fs.transform(X_TR)\n",
        "  X_TS_new = fs.transform(X_TS) \n",
        "  MODEL.fit(X_TR_new, y_TR)\n",
        "  yPred = MODEL.predict(X_TS_new)\n",
        "  acc = accuracy_score(y_TS, yPred) * 100\n",
        "  if Best_feature == True:\n",
        "    return X_TR_new\n",
        "  else :\n",
        "    return acc"
      ],
      "execution_count": null,
      "outputs": []
    },
    {
      "cell_type": "code",
      "metadata": {
        "id": "Ng1gpzLw9Njr"
      },
      "source": [
        "model = GaussianNB()\n",
        "acc_dict = {}\n",
        "for nf in range(1,11):\n",
        "  fsm =  SelectKBest(chi2, k=nf)\n",
        "  acc = select_feature(xtr_max_lda1, y_train, xts_max_lda1, y_test, fsm, model)\n",
        "  acc_dict[nf] = acc\n",
        "\n",
        "plt.plot(*zip(*sorted(acc_dict.items())))\n",
        "Title = \"Feature Selection with Chi-square Method for (GNB)\"\n",
        "plt.title(Title, fontsize=17)\n",
        "plt.xlabel(\"Number of Features\", fontsize=16)\n",
        "plt.ylabel(\"Accuracy (%)\", fontsize=16)\n",
        "plt.axhline(y=max_y1, color='r', linestyle='-')\n",
        "plt.axvline(x=max(acc_dict, key=acc_dict.get) ,color='black' , linestyle=':')\n",
        "\n",
        "print(\"Maximum accuracy:\", max(acc_dict.values()))\n",
        "print(\"Best number of features:\", max(acc_dict, key=acc_dict.get))"
      ],
      "execution_count": null,
      "outputs": []
    },
    {
      "cell_type": "code",
      "metadata": {
        "id": "2G5RaZuUJOYc"
      },
      "source": [
        "model = SV\n",
        "acc_dict = {}\n",
        "for nf in range(1,11):\n",
        "  fsm =  SelectKBest(chi2, k=nf)\n",
        "  acc = select_feature(xtr_max_lda2, y_train, xts_max_lda2, y_test, fsm, model)\n",
        "  acc_dict[nf] = acc\n",
        "  if nf ==9:\n",
        "    X_svm_filter = select_feature(xtr_max_lda2, y_train, xts_max_lda2, y_test, fsm, model,Best_feature=True)  \n",
        "\n",
        "plt.plot(*zip(*sorted(acc_dict.items())))\n",
        "Title = \"Feature Selection with Chi-square Method for (SVM)\"\n",
        "plt.title(Title, fontsize=17)\n",
        "plt.xlabel(\"Number of Features\", fontsize=16)\n",
        "plt.ylabel(\"Accuracy (%)\", fontsize=16)\n",
        "plt.axhline(y=max_y2, color='r', linestyle='-')\n",
        "plt.axvline(x=max(acc_dict, key=acc_dict.get),color='black' , linestyle=':')\n",
        "\n",
        "print(\"Maximum accuracy:\", max(acc_dict.values()))\n",
        "print(\"Best number of features:\", max(acc_dict, key=acc_dict.get))"
      ],
      "execution_count": null,
      "outputs": []
    },
    {
      "cell_type": "code",
      "metadata": {
        "id": "A5UvJyLSSOne"
      },
      "source": [
        ""
      ],
      "execution_count": null,
      "outputs": []
    },
    {
      "cell_type": "markdown",
      "metadata": {
        "id": "9yb1BHNfS3_6"
      },
      "source": [
        "# Feature Selection methods(wraper)"
      ]
    },
    {
      "cell_type": "code",
      "metadata": {
        "id": "2BdHwQiMS8-S"
      },
      "source": [
        "model = SV\n",
        "acc_dict = {}\n",
        "for nf in range(1,11):\n",
        "  sfs = SequentialFeatureSelector(model, n_features_to_select=nf)\n",
        "  acc = select_feature(xtr_max_lda2, y_train, xts_max_lda2, y_test, sfs, model)\n",
        "  acc_dict[nf] = acc\n",
        "\n",
        "plt.plot(*zip(*sorted(acc_dict.items())))\n",
        "Title = \"Feature Selection with Forward Feature Selection Method for (SVM)\"\n",
        "plt.title(Title, fontsize=17)\n",
        "plt.xlabel(\"Number of Features\", fontsize=16)\n",
        "plt.ylabel(\"Accuracy (%)\", fontsize=16)\n",
        "plt.axvline(x=max(acc_dict, key=acc_dict.get),color='black' , linestyle=':')\n",
        "\n",
        "print(\"Maximum accuracy:\", max(acc_dict.values()))\n",
        "print(\"Best number of features:\", max(acc_dict, key=acc_dict.get))"
      ],
      "execution_count": null,
      "outputs": []
    },
    {
      "cell_type": "code",
      "metadata": {
        "id": "RxQfk4gEi2Lv"
      },
      "source": [
        "xtr_max_lda1.shape"
      ],
      "execution_count": null,
      "outputs": []
    },
    {
      "cell_type": "code",
      "metadata": {
        "id": "HaQ4i9keZFAK"
      },
      "source": [
        "model = GaussianNB()\n",
        "acc_dict = {}\n",
        "for nf in range(1,10):\n",
        "  sfs = SequentialFeatureSelector(model, n_features_to_select=nf)\n",
        "  #print(sfs)\n",
        "  acc = select_feature(xtr_max_lda1, y_train, xts_max_lda1, y_test, sfs, model)\n",
        "  acc_dict[nf] = acc\n",
        "\n",
        "plt.plot(*zip(*sorted(acc_dict.items())))\n",
        "Title = \"Feature Selection with Forward Feature Selection Method for (GNB)\"\n",
        "plt.title(Title, fontsize=17)\n",
        "plt.xlabel(\"Number of Features\", fontsize=16)\n",
        "plt.ylabel(\"Accuracy (%)\", fontsize=16)\n",
        "plt.axvline(x=max(acc_dict, key=acc_dict.get),color='black' , linestyle=':')\n",
        "\n",
        "print(\"Maximum accuracy:\", max(acc_dict.values()))\n",
        "print(\"Best number of features:\", max(acc_dict, key=acc_dict.get))"
      ],
      "execution_count": null,
      "outputs": []
    },
    {
      "cell_type": "markdown",
      "metadata": {
        "id": "uu9qY-CIdHED"
      },
      "source": [
        "# (6) Optimal K for best feature_accuracy _from Q_4"
      ]
    },
    {
      "cell_type": "code",
      "metadata": {
        "id": "V4vPZ1WmmD5J"
      },
      "source": [
        "model = KMeans()\n",
        "visualizer = KElbowVisualizer(model, k=(2,20) ,title='optimal_K for max_featue(LDA) in SVM')\n",
        "\n",
        "visualizer.fit(xtr_max_lda2)        # Fit the data to the visualizer\n",
        "visualizer.show() "
      ],
      "execution_count": null,
      "outputs": []
    },
    {
      "cell_type": "code",
      "metadata": {
        "id": "IgZDDKJlmcr1"
      },
      "source": [
        "model = KMeans()\n",
        "visualizer = KElbowVisualizer(model, k=(2,20) ,title='optimal_K for max_featue(filter) in SVM')\n",
        "\n",
        "visualizer.fit(X_svm_filter)        # Fit the data to the visualizer\n",
        "visualizer.show() "
      ],
      "execution_count": null,
      "outputs": []
    },
    {
      "cell_type": "markdown",
      "metadata": {
        "id": "GxGSH5OfpzEx"
      },
      "source": [
        "# (7)SOM"
      ]
    },
    {
      "cell_type": "code",
      "metadata": {
        "id": "Ah6o3YJip3xP"
      },
      "source": [
        "!pip install sklearn_som"
      ],
      "execution_count": null,
      "outputs": []
    },
    {
      "cell_type": "markdown",
      "metadata": {
        "id": "UyyO8V8YFdQv"
      },
      "source": [
        "The best No.of neurons =15"
      ]
    },
    {
      "cell_type": "code",
      "metadata": {
        "id": "aPWLWsMVp4df"
      },
      "source": [
        "from sklearn_som.som import SOM\n",
        "wcss = []\n",
        "for i in range(1, 31):\n",
        "    som = SOM(m=i, n=1, dim=10)\n",
        "    som.fit(xtr_max_lda1)\n",
        "    wcss.append(som.inertia_)\n",
        "plt.plot(range(1, 31), wcss)\n",
        "plt.title('Elbow Method to choose the best number of neurons for SOM algorithm with max (30 neurons)',fontsize='17')\n",
        "plt.xlabel('Number of Neurons')\n",
        "plt.ylabel('WCSS')\n",
        "plt.show()\n"
      ],
      "execution_count": null,
      "outputs": []
    },
    {
      "cell_type": "code",
      "metadata": {
        "id": "d1-bbJ-FM07p"
      },
      "source": [
        "!pip install MiniSom\n"
      ],
      "execution_count": null,
      "outputs": []
    },
    {
      "cell_type": "code",
      "metadata": {
        "id": "EB3NChMisv4f"
      },
      "source": [
        "# define SOM:\n",
        "from minisom import MiniSom\n",
        "som = MiniSom(5, 3, input_len=10, sigma=0.6, learning_rate=0.2)\n",
        "\n",
        "# Initializing the weights\n",
        "som.random_weights_init(xtr_max_lda1)\n",
        "\n"
      ],
      "execution_count": null,
      "outputs": []
    },
    {
      "cell_type": "code",
      "metadata": {
        "id": "iGtb9aGBQmCZ"
      },
      "source": [
        "from pylab import plot, axis, show, pcolor, colorbar, bone ,title\n",
        "title('The initial Neuron positions',fontsize='17')\n",
        "bone()\n",
        "pcolor(som.distance_map().T) # Distance map as background\n",
        "colorbar()\n",
        "show()\n"
      ],
      "execution_count": null,
      "outputs": []
    },
    {
      "cell_type": "code",
      "metadata": {
        "id": "hQK0M5kIDMXQ"
      },
      "source": [
        "# Training\n",
        "som.train_random(xtr_max_lda1, 1000)\n",
        "from pylab import plot, axis, show, pcolor, colorbar, bone\n",
        "bone()\n",
        "title('The final Neuron positions',fontsize='17')\n",
        "pcolor(som.distance_map().T) # Distance map as background\n",
        "colorbar()\n",
        "show()"
      ],
      "execution_count": null,
      "outputs": []
    },
    {
      "cell_type": "code",
      "metadata": {
        "id": "74bhkeCyvud5"
      },
      "source": [
        "pip install sklearn_som\n"
      ],
      "execution_count": null,
      "outputs": []
    },
    {
      "cell_type": "markdown",
      "metadata": {
        "id": "9Fn7QFchWhpW"
      },
      "source": [
        "# (8) DBSCAN"
      ]
    },
    {
      "cell_type": "code",
      "metadata": {
        "id": "bpYtV_68XXFT"
      },
      "source": [
        "from collections import defaultdict\n",
        "import numpy as np\n",
        "from matplotlib import pyplot as plt\n",
        "from sklearn.cluster import KMeans, DBSCAN\n",
        "from sklearn.datasets import load_digits\n",
        "from sklearn.metrics import silhouette_score, accuracy_score\n",
        "from sklearn.utils.multiclass import unique_labels\n",
        "#from sklearn_som.som import SOM\n",
        "from tqdm import tqdm"
      ],
      "execution_count": null,
      "outputs": []
    },
    {
      "cell_type": "code",
      "metadata": {
        "id": "McoGqxCxVAxF"
      },
      "source": [
        "\n",
        "epsList, msList, accList, no_cluster = [], [], [],[]\n",
        "for eps in tqdm(np.arange(0.2, 3, 0.1)):\n",
        "    for ms in range(2, 15):\n",
        "        model = DBSCAN(eps=eps, min_samples=ms)\n",
        "        predClusters = model.fit_predict(x_train)\n",
        "        #accuracy = accuracy_score(train, predClusters)\n",
        "        nClusters = len(set(predClusters)) - (1 if -1 in predClusters else 0)\n",
        "\n",
        "        epsList.append(eps)\n",
        "        msList.append(ms)\n",
        "        #accList.append(accuracy)\n",
        "        no_cluster.append(nClusters)\n",
        "        \n",
        "\n",
        "\n",
        "#accList = np.array(accList)\n",
        "ax = plt.axes(projection='3d')\n",
        "ax.plot_trisurf(epsList, msList, no_cluster)\n",
        "ax.set_xlabel('EPS')\n",
        "ax.set_ylabel('MIN_SAMPLES')\n",
        "ax.set_zlabel('No_of Clusters')\n",
        "plt.title('Clusters with different epsilon and minpoints',fontsize='17')\n",
        "plt.show()\n",
        "#i = accList.argmax()\n",
        "#print(epsList[i], msList[i], no_cluster[i])"
      ],
      "execution_count": null,
      "outputs": []
    },
    {
      "cell_type": "code",
      "metadata": {
        "id": "C0IKinpTdU_a"
      },
      "source": [
        "#gettung the best 10 compination points to plot them\n",
        "df_new = pd.DataFrame(epsList)\n",
        "df_new['msList'] = msList\n",
        "df_new ['epsList']=epsList\n",
        "df_new['no_cluster'] =no_cluster\n",
        "df_new"
      ],
      "execution_count": null,
      "outputs": []
    },
    {
      "cell_type": "code",
      "metadata": {
        "id": "6rbURVHkMpPc"
      },
      "source": [
        "x = df_new.drop_duplicates(subset='no_cluster')\n",
        "xx = x[x.no_cluster.isin([5, 8, 9, 10, 11, 12, 14, 15, 18, 19])]\n",
        "eps_new = xx['epsList']\n",
        "minpoint_new = xx['msList']\n",
        "cluster_new =xx['no_cluster']"
      ],
      "execution_count": null,
      "outputs": []
    },
    {
      "cell_type": "code",
      "metadata": {
        "id": "UZ2sbKy3QlPv"
      },
      "source": [
        "fig=plt.figure(figsize=(8,8),dpi=100)\n",
        "ax=plt.axes(projection='3d')\n",
        "ax.scatter3D(eps_new,minpoint_new,cluster_new,s=100,edgecolor=\"b\", facecolor=\"red\")\n",
        "ax.set_xlabel('epsilon' ,fontsize=16)\n",
        "ax.set_ylabel('minpoints',fontsize=16)\n",
        "ax.set_zlabel('clusters',fontsize=16)\n",
        "plt.title('The 10 combinations of clusters that brings you closer to the 11 clusters.')\n",
        "plt.show()"
      ],
      "execution_count": null,
      "outputs": []
    }
  ]
}