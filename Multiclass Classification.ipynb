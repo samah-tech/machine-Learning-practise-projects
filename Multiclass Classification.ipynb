{
 "cells": [
  {
   "cell_type": "markdown",
   "metadata": {
    "id": "bLy6Xryj3lw7"
   },
   "source": [
    "## import needed libraries and packages"
   ]
  },
  {
   "cell_type": "code",
   "execution_count": 28,
   "metadata": {
    "id": "uYpGTiipPxJc"
   },
   "outputs": [],
   "source": [
    "import numpy as np\n",
    "import matplotlib.pyplot as plt\n",
    "import pandas as pd \n",
    "from sklearn import svm, datasets\n",
    "import seaborn as sns\n",
    "#-----------------------------------------------SVM---------------------------------------------------\n",
    "from sklearn import svm, datasets\n",
    "from sklearn.metrics import classification_report, confusion_matrix, accuracy_score, plot_confusion_matrix\n",
    "from sklearn.datasets import make_classification, make_circles\n",
    "#----------------------------------------------------perceptron---------------------------------\n",
    "from sklearn.metrics import accuracy_score\n",
    "from sklearn.datasets import make_classification\n",
    "from sklearn.datasets import make_circles\n",
    "from sklearn.linear_model import Perceptron\n",
    "#---------------------------------------------OVR------------------------------------------\n",
    "\n",
    "from sklearn.svm import SVC\n",
    "from sklearn import preprocessing\n",
    "from sklearn.calibration import CalibratedClassifierCV\n",
    "import warnings\n",
    "warnings.filterwarnings('ignore')"
   ]
  },
  {
   "cell_type": "markdown",
   "metadata": {
    "id": "HMZYkZgx30v6"
   },
   "source": [
    "## read the data from your local path"
   ]
  },
  {
   "cell_type": "code",
   "execution_count": 29,
   "metadata": {
    "colab": {
     "base_uri": "https://localhost:8080/"
    },
    "id": "Y5dldId3QKM_",
    "outputId": "bef4f19a-ebd2-457f-b4fe-1e2e3de14057"
   },
   "outputs": [
    {
     "data": {
      "text/plain": [
       "(42, 3)"
      ]
     },
     "execution_count": 29,
     "metadata": {},
     "output_type": "execute_result"
    }
   ],
   "source": [
    "#-----------------Read the data ----------------------\n",
    "train_data = pd.read_csv('/content/seeds_train.csv' , names=['feature_1','feature_5','classes'])  #replace the path with your own local path of train data\n",
    "test_data = pd.read_csv('/content/seeds_test.csv',names=['feature_1','feature_5','classes'])       #replace the path with your own local path of test data\n",
    "test_data.shape\n"
   ]
  },
  {
   "cell_type": "markdown",
   "metadata": {
    "id": "HDsrK1hV6SIp"
   },
   "source": [
    "## partition and prepare the data"
   ]
  },
  {
   "cell_type": "code",
   "execution_count": 30,
   "metadata": {
    "id": "_sZqAERL6Nzl"
   },
   "outputs": [],
   "source": [
    "#Remove rows of the class 1 (Kama) in new copy of data \n",
    "C_train_data=train_data[train_data.iloc[:,2]!=1].reset_index()\n",
    "C_train_data.drop([\"index\"],axis=1,inplace=True)\n",
    "C_test_data= test_data[test_data.iloc[:,2]!=1].reset_index()\n",
    "C_test_data.drop([\"index\"],axis=1,inplace=True)\n",
    "\n",
    "\n",
    "#----------------------------------------------------------------------------------------------------------------------------\n",
    "#---------partitioning orignal data into train&test--------------------------------\n",
    "x_train = train_data.iloc[:,:2]\n",
    "y_train =np.array( train_data.iloc [:,2])\n",
    "x_test = np.array(test_data.iloc[:,:2])\n",
    "y_test =(np.array( test_data.iloc [:,2])).tolist()\n",
    "#---------partitioning the data after removing class 1 into train&test--------------------------------\n",
    "x_train1 = C_train_data.iloc[:,:2]\n",
    "y_train1 =np.array( C_train_data.iloc [:,2])\n",
    "x_test1 = C_test_data.iloc[:,:2]\n",
    "y_test1 =np.array( C_test_data.iloc [:,2])\n"
   ]
  },
  {
   "cell_type": "markdown",
   "metadata": {
    "id": "FNwje3h87f8b"
   },
   "source": [
    "## **for plotting**"
   ]
  },
  {
   "cell_type": "code",
   "execution_count": 31,
   "metadata": {
    "id": "APDpooOA7e9a"
   },
   "outputs": [],
   "source": [
    "#--------------------------------constracting the mesh grid to plot in --------------------------\n",
    "def plotRegions(model,X):\n",
    "  x_min, x_max = X[:, 0].min() - 1, X[:, 0].max() + 1\n",
    "  y_min, y_max = X[:, 1].min() - 1, X[:, 1].max() + 1\n",
    "  XX, YY = np.meshgrid(np.arange(x_min, x_max, 0.01), np.arange(y_min, y_max, 0.01))\n",
    "\n",
    "  z = model.predict(np.c_[XX.ravel(), YY.ravel()])\n",
    "  ZZ = z.reshape(XX.shape)\n",
    "  plt.contourf(XX, YY, ZZ, alpha=0.2) \n",
    "#-------------------------------------Plotting Boundaries-----------------------------------------------------\n",
    "def plotData(features, labels, cls, class_names):\n",
    "  colors = ['r', 'b', 'g']\n",
    "  markers = ['o', '*', '+']\n",
    "  for class_index in range(len(cls)):\n",
    "    plt.scatter(features[labels == cls[class_index],0], features[labels == cls[class_index],1], c=colors[class_index], marker=markers[class_index], label=class_names[cls[class_index]])\n",
    "  Title = \"Seeds Dataset\"\n",
    "  plt.title(Title)\n",
    "  plt.xlabel('First Feature')\n",
    "  plt.ylabel('Fifth Feature')\n",
    "  plt.legend()\n",
    "\n"
   ]
  },
  {
   "cell_type": "markdown",
   "metadata": {
    "id": "MJ2la_Ai9cST"
   },
   "source": [
    "## Main_Functions"
   ]
  },
  {
   "cell_type": "code",
   "execution_count": 32,
   "metadata": {
    "id": "313DTC0SWaDo"
   },
   "outputs": [],
   "source": [
    "#------------------------to get the accuuracy of any model for (ovo) classifiers-----------------------------\n",
    "def getAccuracy(model, x_test, y_test):\n",
    "  return model.score(x_test,y_test)*100\n",
    "\n",
    "#--------------------------------fit with different models for (ovo) classifiers-------------------------\n",
    "def fit_accuracy(model):\n",
    "  model.fit(x_train1, y_train1)\n",
    "  print('Accuracy of per_model: {:.2f}%'.format(getAccuracy(model, x_test1, y_test1)))\n",
    "  y_true, y_pred = y_test1, model.predict(x_test1)\n",
    "  print('\\nClassification Report:\\n')\n",
    "  print(classification_report(y_true, y_pred))\n",
    "\n",
    "  print('\\nConfusion Matrix:\\n')\n",
    "  print(confusion_matrix(y_test1, y_pred))\n",
    "  plot_confusion_matrix(model, x_test1, y_test1)  \n",
    "  \n",
    "\n",
    "#------------------------------------binarize the labels to achieve OVR & get results for every classifier-----------------------------\n",
    "def main_fun (model_OVR , positive_clas , accur_SVC =False , accur_Per =False, result_graph=False , ytst = False , nfit =False  ):\n",
    "  \n",
    "  LB = preprocessing.LabelBinarizer(neg_label=-1, pos_label=1, sparse_output=False)\n",
    "  LB.fit([positive_clas])\n",
    "  ytrain_new = LB.transform(y_train)\n",
    "  ytest_ew = LB.transform(y_test)\n",
    "\n",
    "  ytest_w=[]\n",
    "  for i in range(len(ytest_ew)):\n",
    "    ytest_w.append(ytest_ew[i][0])\n",
    "  ytest_new =np.array(ytest_w)\n",
    "       \n",
    "  OvR_clf =model_OVR.fit(x_train ,ytrain_new)               #fitteng the model with the approach of OVR\n",
    "  y_pred = OvR_clf.predict(x_test)\n",
    "  if accur_SVC ==True:\n",
    "    y_pred_prob = OvR_clf.predict_proba(x_test)   #Return the predictions as probabilities\n",
    "  #print(y_pred_prob)\n",
    "\n",
    "  if accur_Per == True:\n",
    "    clf_isotonic = CalibratedClassifierCV(model_OVR, cv=10, method='isotonic')\n",
    "    clf_isotonic.fit(x_train, ytrain_new)\n",
    "    y_pred_prob_2 = clf_isotonic.predict_proba(x_test)\n",
    "\n",
    "  AC = 'Accuracy : {:.2f}%'.format(accuracy_score(ytest_new, y_pred)*100)\n",
    "  #ac = accuracy_score(ytest_new, y_pred)\n",
    "\n",
    "  y_true, y_pred = ytest_new, OvR_clf.predict(x_test)                #y_true & y_pred for each model\n",
    "  CR = '\\nClassification Report:\\n'\n",
    "  CR_graph = classification_report(y_true, y_pred)\n",
    "  CM = '\\nConfusion Matrix:\\n'\n",
    "  CM_graph =confusion_matrix(ytest_new, y_pred)\n",
    "  \n",
    "\n",
    "  if accur_SVC ==True : return y_pred_prob \n",
    "  elif accur_Per == True: return  y_pred_prob_2  \n",
    "  elif result_graph == True: return print(CR) , print(CR_graph) , print(CM) , print(CM_graph), plot_confusion_matrix(OvR_clf,x_test,ytest_new), print(AC)  \n",
    "  elif ytst ==True : return ytest_new  \n",
    "  elif nfit ==True : return OvR_clf\n",
    "  else: return print (\"enter the parameter you need to show\")\n",
    "     \n",
    "    \n",
    "\n",
    "    "
   ]
  },
  {
   "cell_type": "markdown",
   "metadata": {
    "id": "IV2N4DXgVfEo"
   },
   "source": [
    "## ***One versis one (SVM & perceptron)***\n",
    "\n"
   ]
  },
  {
   "cell_type": "code",
   "execution_count": 33,
   "metadata": {
    "colab": {
     "base_uri": "https://localhost:8080/",
     "height": 585
    },
    "id": "VONq7mPUVdrb",
    "outputId": "bdd5f7c4-b218-42a1-e3e7-41a9f4c599b6"
   },
   "outputs": [
    {
     "name": "stdout",
     "output_type": "stream",
     "text": [
      "Accuracy of per_model: 100.00%\n",
      "\n",
      "Classification Report:\n",
      "\n",
      "              precision    recall  f1-score   support\n",
      "\n",
      "           2       1.00      1.00      1.00        17\n",
      "           3       1.00      1.00      1.00        12\n",
      "\n",
      "    accuracy                           1.00        29\n",
      "   macro avg       1.00      1.00      1.00        29\n",
      "weighted avg       1.00      1.00      1.00        29\n",
      "\n",
      "\n",
      "Confusion Matrix:\n",
      "\n",
      "[[17  0]\n",
      " [ 0 12]]\n"
     ]
    },
    {
     "data": {
      "image/png": "[encoded data removed]",
      "text/plain": [
       "<Figure size 432x288 with 2 Axes>"
      ]
     },
     "metadata": {
      "needs_background": "light"
     },
     "output_type": "display_data"
    }
   ],
   "source": [
    "model_1 = svm.SVC(kernel='linear', decision_function_shape='ovo')  #Take an object from support vector machine model\n",
    "model_2=Perceptron()                           # #Take an object from Perceptron model\n",
    "fit_accuracy(model_1)                          #call the functoion that fit ovo and show the result of SVM\n"
   ]
  },
  {
   "cell_type": "code",
   "execution_count": 34,
   "metadata": {
    "colab": {
     "base_uri": "https://localhost:8080/",
     "height": 585
    },
    "id": "bK8bjtWAwzvt",
    "outputId": "a80d2197-f688-4f9a-a12c-b926b514290f"
   },
   "outputs": [
    {
     "name": "stdout",
     "output_type": "stream",
     "text": [
      "Accuracy of per_model: 82.76%\n",
      "\n",
      "Classification Report:\n",
      "\n",
      "              precision    recall  f1-score   support\n",
      "\n",
      "           2       0.77      1.00      0.87        17\n",
      "           3       1.00      0.58      0.74        12\n",
      "\n",
      "    accuracy                           0.83        29\n",
      "   macro avg       0.89      0.79      0.80        29\n",
      "weighted avg       0.87      0.83      0.82        29\n",
      "\n",
      "\n",
      "Confusion Matrix:\n",
      "\n",
      "[[17  0]\n",
      " [ 5  7]]\n"
     ]
    },
    {
     "data": {
      "image/png": "[encoded data removed]",
      "text/plain": [
       "<Figure size 432x288 with 2 Axes>"
      ]
     },
     "metadata": {
      "needs_background": "light"
     },
     "output_type": "display_data"
    }
   ],
   "source": [
    "fit_accuracy(model_2)     ##call the functoion that fit ovo and show the result of Perceptron"
   ]
  },
  {
   "cell_type": "markdown",
   "metadata": {
    "id": "BrsaFGAitvhm"
   },
   "source": [
    "## OVR (one vs Rest) SVM"
   ]
  },
  {
   "cell_type": "code",
   "execution_count": 35,
   "metadata": {
    "colab": {
     "base_uri": "https://localhost:8080/",
     "height": 0
    },
    "id": "7d1evjF7v6pd",
    "outputId": "ac4ab854-4945-484f-df94-46651a897767"
   },
   "outputs": [
    {
     "name": "stdout",
     "output_type": "stream",
     "text": [
      "\n",
      "Classification Report:\n",
      "\n",
      "              precision    recall  f1-score   support\n",
      "\n",
      "          -1       0.90      0.93      0.92        29\n",
      "           1       0.83      0.77      0.80        13\n",
      "\n",
      "    accuracy                           0.88        42\n",
      "   macro avg       0.87      0.85      0.86        42\n",
      "weighted avg       0.88      0.88      0.88        42\n",
      "\n",
      "\n",
      "Confusion Matrix:\n",
      "\n",
      "[[27  2]\n",
      " [ 3 10]]\n",
      "Accuracy : 88.10%\n"
     ]
    },
    {
     "data": {
      "text/plain": [
       "(None,\n",
       " None,\n",
       " None,\n",
       " None,\n",
       " <sklearn.metrics._plot.confusion_matrix.ConfusionMatrixDisplay at 0x7fad6aeca910>,\n",
       " None)"
      ]
     },
     "execution_count": 35,
     "metadata": {},
     "output_type": "execute_result"
    },
    {
     "data": {
      "image/png": "[encoded data removed]",
      "text/plain": [
       "<Figure size 432x288 with 2 Axes>"
      ]
     },
     "metadata": {
      "needs_background": "light"
     },
     "output_type": "display_data"
    }
   ],
   "source": [
    "main_fun(model_1 ,1, result_graph = True)      #the main function in which you can pass the parameter\n",
    "                                              # result_graph =True when you want to show the result of specific model with OVR approach"
   ]
  },
  {
   "cell_type": "code",
   "execution_count": 36,
   "metadata": {
    "colab": {
     "base_uri": "https://localhost:8080/",
     "height": 0
    },
    "id": "VqwPCGqav8M_",
    "outputId": "d9f4fccb-bd70-4add-ac87-e483dd24de07"
   },
   "outputs": [
    {
     "name": "stdout",
     "output_type": "stream",
     "text": [
      "\n",
      "Classification Report:\n",
      "\n",
      "              precision    recall  f1-score   support\n",
      "\n",
      "          -1       1.00      0.96      0.98        25\n",
      "           1       0.94      1.00      0.97        17\n",
      "\n",
      "    accuracy                           0.98        42\n",
      "   macro avg       0.97      0.98      0.98        42\n",
      "weighted avg       0.98      0.98      0.98        42\n",
      "\n",
      "\n",
      "Confusion Matrix:\n",
      "\n",
      "[[24  1]\n",
      " [ 0 17]]\n",
      "Accuracy : 97.62%\n"
     ]
    },
    {
     "data": {
      "text/plain": [
       "(None,\n",
       " None,\n",
       " None,\n",
       " None,\n",
       " <sklearn.metrics._plot.confusion_matrix.ConfusionMatrixDisplay at 0x7fad6b09f590>,\n",
       " None)"
      ]
     },
     "execution_count": 36,
     "metadata": {},
     "output_type": "execute_result"
    },
    {
     "data": {
      "image/png": "[encoded data removed]",
      "text/plain": [
       "<Figure size 432x288 with 2 Axes>"
      ]
     },
     "metadata": {
      "needs_background": "light"
     },
     "output_type": "display_data"
    }
   ],
   "source": [
    "main_fun(model_1 ,2, result_graph = True)"
   ]
  },
  {
   "cell_type": "code",
   "execution_count": 37,
   "metadata": {
    "colab": {
     "base_uri": "https://localhost:8080/",
     "height": 0
    },
    "id": "iqbQ1JIqt7NQ",
    "outputId": "8fe12254-00f7-4fad-86e8-9c4ad4f4524d"
   },
   "outputs": [
    {
     "name": "stdout",
     "output_type": "stream",
     "text": [
      "\n",
      "Classification Report:\n",
      "\n",
      "              precision    recall  f1-score   support\n",
      "\n",
      "          -1       1.00      1.00      1.00        30\n",
      "           1       1.00      1.00      1.00        12\n",
      "\n",
      "    accuracy                           1.00        42\n",
      "   macro avg       1.00      1.00      1.00        42\n",
      "weighted avg       1.00      1.00      1.00        42\n",
      "\n",
      "\n",
      "Confusion Matrix:\n",
      "\n",
      "[[30  0]\n",
      " [ 0 12]]\n",
      "Accuracy : 100.00%\n"
     ]
    },
    {
     "data": {
      "text/plain": [
       "(None,\n",
       " None,\n",
       " None,\n",
       " None,\n",
       " <sklearn.metrics._plot.confusion_matrix.ConfusionMatrixDisplay at 0x7fad6af8a750>,\n",
       " None)"
      ]
     },
     "execution_count": 37,
     "metadata": {},
     "output_type": "execute_result"
    },
    {
     "data": {
      "image/png": "[encoded data removed]",
      "text/plain": [
       "<Figure size 432x288 with 2 Axes>"
      ]
     },
     "metadata": {
      "needs_background": "light"
     },
     "output_type": "display_data"
    }
   ],
   "source": [
    "main_fun(model_1 ,3, result_graph = True)"
   ]
  },
  {
   "cell_type": "markdown",
   "metadata": {
    "id": "xEnUmMdAwIJq"
   },
   "source": [
    "## OVR(one vs Rest) Perceptron"
   ]
  },
  {
   "cell_type": "code",
   "execution_count": 38,
   "metadata": {
    "colab": {
     "base_uri": "https://localhost:8080/",
     "height": 687
    },
    "id": "sdJpqT2lwSmx",
    "outputId": "6ff88dd3-1df7-4dd0-d3e8-51cf5a20aaa9"
   },
   "outputs": [
    {
     "name": "stdout",
     "output_type": "stream",
     "text": [
      "\n",
      "Classification Report:\n",
      "\n",
      "              precision    recall  f1-score   support\n",
      "\n",
      "          -1       0.84      0.90      0.87        29\n",
      "           1       0.73      0.62      0.67        13\n",
      "\n",
      "    accuracy                           0.81        42\n",
      "   macro avg       0.78      0.76      0.77        42\n",
      "weighted avg       0.80      0.81      0.80        42\n",
      "\n",
      "\n",
      "Confusion Matrix:\n",
      "\n",
      "[[26  3]\n",
      " [ 5  8]]\n",
      "Accuracy : 80.95%\n"
     ]
    },
    {
     "data": {
      "text/plain": [
       "(None,\n",
       " None,\n",
       " None,\n",
       " None,\n",
       " <sklearn.metrics._plot.confusion_matrix.ConfusionMatrixDisplay at 0x7fad6b222e90>,\n",
       " None)"
      ]
     },
     "execution_count": 38,
     "metadata": {},
     "output_type": "execute_result"
    },
    {
     "data": {
      "image/png": "[encoded data removed]",
      "text/plain": [
       "<Figure size 432x288 with 2 Axes>"
      ]
     },
     "metadata": {
      "needs_background": "light"
     },
     "output_type": "display_data"
    }
   ],
   "source": [
    "main_fun(model_2 ,1, result_graph = True)"
   ]
  },
  {
   "cell_type": "code",
   "execution_count": 39,
   "metadata": {
    "colab": {
     "base_uri": "https://localhost:8080/",
     "height": 687
    },
    "id": "RTy4lqeLwidd",
    "outputId": "c1f869e8-da1f-471c-cd11-e3b43cffb814"
   },
   "outputs": [
    {
     "name": "stdout",
     "output_type": "stream",
     "text": [
      "\n",
      "Classification Report:\n",
      "\n",
      "              precision    recall  f1-score   support\n",
      "\n",
      "          -1       0.56      0.76      0.64        25\n",
      "           1       0.25      0.12      0.16        17\n",
      "\n",
      "    accuracy                           0.50        42\n",
      "   macro avg       0.40      0.44      0.40        42\n",
      "weighted avg       0.43      0.50      0.45        42\n",
      "\n",
      "\n",
      "Confusion Matrix:\n",
      "\n",
      "[[19  6]\n",
      " [15  2]]\n",
      "Accuracy : 50.00%\n"
     ]
    },
    {
     "data": {
      "text/plain": [
       "(None,\n",
       " None,\n",
       " None,\n",
       " None,\n",
       " <sklearn.metrics._plot.confusion_matrix.ConfusionMatrixDisplay at 0x7fad6afa9b50>,\n",
       " None)"
      ]
     },
     "execution_count": 39,
     "metadata": {},
     "output_type": "execute_result"
    },
    {
     "data": {
      "image/png": "[encoded data removed]",
      "text/plain": [
       "<Figure size 432x288 with 2 Axes>"
      ]
     },
     "metadata": {
      "needs_background": "light"
     },
     "output_type": "display_data"
    }
   ],
   "source": [
    "main_fun(model_2 ,2, result_graph = True)"
   ]
  },
  {
   "cell_type": "code",
   "execution_count": 40,
   "metadata": {
    "colab": {
     "base_uri": "https://localhost:8080/",
     "height": 691
    },
    "id": "ccj9AFXFwl6d",
    "outputId": "a8cd78fd-49b7-4f38-b0cd-19b00556a4db"
   },
   "outputs": [
    {
     "name": "stdout",
     "output_type": "stream",
     "text": [
      "\n",
      "Classification Report:\n",
      "\n",
      "              precision    recall  f1-score   support\n",
      "\n",
      "          -1       0.83      1.00      0.91        30\n",
      "           1       1.00      0.50      0.67        12\n",
      "\n",
      "    accuracy                           0.86        42\n",
      "   macro avg       0.92      0.75      0.79        42\n",
      "weighted avg       0.88      0.86      0.84        42\n",
      "\n",
      "\n",
      "Confusion Matrix:\n",
      "\n",
      "[[30  0]\n",
      " [ 6  6]]\n",
      "Accuracy : 85.71%\n"
     ]
    },
    {
     "data": {
      "text/plain": [
       "(None,\n",
       " None,\n",
       " None,\n",
       " None,\n",
       " <sklearn.metrics._plot.confusion_matrix.ConfusionMatrixDisplay at 0x7fad74076a10>,\n",
       " None)"
      ]
     },
     "execution_count": 40,
     "metadata": {},
     "output_type": "execute_result"
    },
    {
     "data": {
      "image/png": "[encoded data removed]",
      "text/plain": [
       "<Figure size 432x288 with 2 Axes>"
      ]
     },
     "metadata": {
      "needs_background": "light"
     },
     "output_type": "display_data"
    }
   ],
   "source": [
    "main_fun(model_2 ,3, result_graph = True)"
   ]
  },
  {
   "cell_type": "markdown",
   "metadata": {
    "id": "_MSdXBaex2Td"
   },
   "source": [
    "## **Desition_Boundaries**"
   ]
  },
  {
   "cell_type": "code",
   "execution_count": 41,
   "metadata": {
    "colab": {
     "base_uri": "https://localhost:8080/",
     "height": 295
    },
    "id": "FFKzR3hWx7xt",
    "outputId": "5cbba684-6944-4722-92db-caf832ab09f6"
   },
   "outputs": [
    {
     "data": {
      "image/png": "[encoded data removed]",
      "text/plain": [
       "<Figure size 432x288 with 1 Axes>"
      ]
     },
     "metadata": {
      "needs_background": "light"
     },
     "output_type": "display_data"
    }
   ],
   "source": [
    "#------------------------------------------------------decision boundary for SVM  Classifier 1---------------------------------------------------------------------------------------------------------\n",
    "plotData(x_test,main_fun(SVC(),1,ytst=True),[1,-1], {1: 'Koma', -1: 'Candain ,Rosa'});\n",
    "plotRegions(main_fun(SVC(),1,nfit=True), x_test)   # here i passed this parameter (nfit=true) to get the model after fitting from my own main function"
   ]
  },
  {
   "cell_type": "code",
   "execution_count": 42,
   "metadata": {
    "colab": {
     "base_uri": "https://localhost:8080/",
     "height": 295
    },
    "id": "nkNknPRVyxQk",
    "outputId": "77d44a20-3199-4181-bdb1-3555bf38db12"
   },
   "outputs": [
    {
     "data": {
      "image/png": "[encoded data removed]",
      "text/plain": [
       "<Figure size 432x288 with 1 Axes>"
      ]
     },
     "metadata": {
      "needs_background": "light"
     },
     "output_type": "display_data"
    }
   ],
   "source": [
    "#------------------------------------------------------decision boundary for SVM  Classifier 2---------------------------------------------------------------------------------------------------------\n",
    "plotData(x_test,main_fun(SVC(),2,ytst=True),[1,-1], {1: 'Rosa', -1: 'Kama ,Candain'})\n",
    "plotRegions(main_fun(SVC(),2,nfit=True), x_test)"
   ]
  },
  {
   "cell_type": "code",
   "execution_count": 43,
   "metadata": {
    "colab": {
     "base_uri": "https://localhost:8080/",
     "height": 295
    },
    "id": "Fq6Hj85Gy0a0",
    "outputId": "7d5cc9ed-e573-42fd-f40b-5215fb8c35f4"
   },
   "outputs": [
    {
     "data": {
      "image/png": "[encoded data removed]",
      "text/plain": [
       "<Figure size 432x288 with 1 Axes>"
      ]
     },
     "metadata": {
      "needs_background": "light"
     },
     "output_type": "display_data"
    }
   ],
   "source": [
    "#------------------------------------------------------decision boundary for SVM  Classifier 3---------------------------------------------------------------------------------------------------------\n",
    "plotData(x_test,main_fun(SVC(),3,ytst=True),[1,-1], {1: 'Canadian', -1: 'Kama,Rosa'})\n",
    "plotRegions(main_fun(SVC(),3,nfit=True), x_test)"
   ]
  },
  {
   "cell_type": "code",
   "execution_count": 44,
   "metadata": {
    "colab": {
     "base_uri": "https://localhost:8080/",
     "height": 295
    },
    "id": "LMs_lRLLzFZE",
    "outputId": "208e9277-f853-44a6-f3f3-4601de22ded4"
   },
   "outputs": [
    {
     "data": {
      "image/png": "[encoded data removed]",
      "text/plain": [
       "<Figure size 432x288 with 1 Axes>"
      ]
     },
     "metadata": {
      "needs_background": "light"
     },
     "output_type": "display_data"
    }
   ],
   "source": [
    "#------------------------------------------------------decision boundary for perceptron Classifier1---------------------------------------------------------------------------------------------------------\n",
    "plotData(x_test,main_fun(Perceptron(),1,ytst=True),[1,-1], {1: 'Koma', -1: 'Candain ,Rosa'});\n",
    "plotRegions(main_fun(Perceptron(),1,nfit=True), x_test)"
   ]
  },
  {
   "cell_type": "code",
   "execution_count": 45,
   "metadata": {
    "colab": {
     "base_uri": "https://localhost:8080/",
     "height": 295
    },
    "id": "Fq-Tz2Q6zPgr",
    "outputId": "35d54e89-3a5e-43bf-f081-0e21f1153a79"
   },
   "outputs": [
    {
     "data": {
      "image/png": "[encoded data removed]",
      "text/plain": [
       "<Figure size 432x288 with 1 Axes>"
      ]
     },
     "metadata": {
      "needs_background": "light"
     },
     "output_type": "display_data"
    }
   ],
   "source": [
    "#------------------------------------------------------decision boundary for perceptron Classifier2---------------------------------------------------------------------------------------------------------\n",
    "plotData(x_test,main_fun(Perceptron(),2,ytst=True),[1,-1], {1: 'Rosa', -1: 'Kama ,Candain'})\n",
    "plotRegions(main_fun(Perceptron(),2,nfit=True), x_test)"
   ]
  },
  {
   "cell_type": "code",
   "execution_count": 46,
   "metadata": {
    "colab": {
     "base_uri": "https://localhost:8080/",
     "height": 295
    },
    "id": "nQAXdy3w1-lD",
    "outputId": "4adf84d6-c91a-4620-866b-9f93279a48cc"
   },
   "outputs": [
    {
     "data": {
      "image/png": "[encoded data removed]",
      "text/plain": [
       "<Figure size 432x288 with 1 Axes>"
      ]
     },
     "metadata": {
      "needs_background": "light"
     },
     "output_type": "display_data"
    }
   ],
   "source": [
    "#------------------------------------------------------decision boundary for perceptron Classifier3---------------------------------------------------------------------------------------------------------\n",
    "plotData(x_test,main_fun(Perceptron(),3,ytst=True),[1,-1], {1: 'Canadian', -1: 'Kama,Rosa'})\n",
    "plotRegions(main_fun(Perceptron(),3,nfit=True), x_test)"
   ]
  },
  {
   "cell_type": "markdown",
   "metadata": {
    "id": "3Zi64XPJwVYD"
   },
   "source": [
    "# get the prediction probability for each model (ArgMax)"
   ]
  },
  {
   "cell_type": "code",
   "execution_count": 47,
   "metadata": {
    "colab": {
     "base_uri": "https://localhost:8080/",
     "height": 384
    },
    "id": "xGPvErtYwU56",
    "outputId": "d38595b9-4388-4d10-be9d-ddb2d3f62517"
   },
   "outputs": [
    {
     "name": "stdout",
     "output_type": "stream",
     "text": [
      "42\n",
      "<class 'numpy.ndarray'>\n",
      "Accuracy = 92.86%\n",
      "[[11  2  0]\n",
      " [ 0 17  0]\n",
      " [ 1  0 11]]\n"
     ]
    },
    {
     "data": {
      "text/plain": [
       "<matplotlib.axes._subplots.AxesSubplot at 0x7fad6ae4ce10>"
      ]
     },
     "execution_count": 47,
     "metadata": {},
     "output_type": "execute_result"
    },
    {
     "data": {
      "image/png": "[encoded data removed]",
      "text/plain": [
       "<Figure size 432x288 with 2 Axes>"
      ]
     },
     "metadata": {
      "needs_background": "light"
     },
     "output_type": "display_data"
    }
   ],
   "source": [
    "#------------------aplling argmax to combine the three models of SVM--------------------------------------\n",
    "y_prob1 = main_fun(SVC(probability=True) , 1 , accur_SVC = True)[:,1]  # here passing the parameter (accur_SVC) to return the output of pridict_prob function inside the main function\n",
    "y_prob2 = main_fun( SVC(probability=True) , 2 , accur_SVC = True)[:,1]\n",
    "y_prob3 = main_fun(SVC(probability=True) , 3 , accur_SVC = True)[:,1]\n",
    "print(len(y_prob3))\n",
    "print(type(y_prob1))\n",
    "# xx=y_prb1.tolist()\n",
    "# print(xx)\n",
    "pred_classes = []\n",
    "for i in range(len(y_prob1)):\n",
    "  index = np.argmax([y_prob1[i],y_prob2[i],y_prob3[i]])\n",
    "  tru_inex = index +1\n",
    "  pred_classes.append(tru_inex)\n",
    "# print((pred_classes))\n",
    "# print(np.array(y_test))\n",
    "\n",
    "#----calculate the accuracy of the 3_binary classifiers of SVM---------------------------\n",
    "SVM_acc = sum(1 for x,y in zip(pred_classes,y_test) if x == y) / float(len(pred_classes))\n",
    "print(\"Accuracy = {:.2f}%\".format(SVM_acc*100))\n",
    "#print (confusion_matrix(y_test, pred_classes))\n",
    "XXX=confusion_matrix(y_test, pred_classes)   # To plot the confusion matrix\n",
    "print (XXX)\n",
    "sns.heatmap(XXX, annot=True)\n",
    "\n",
    "\n"
   ]
  },
  {
   "cell_type": "code",
   "execution_count": 48,
   "metadata": {
    "colab": {
     "base_uri": "https://localhost:8080/",
     "height": 295
    },
    "id": "lON6v1xdAtX9",
    "outputId": "9f6508da-5a74-477e-834c-80bd24776286"
   },
   "outputs": [
    {
     "data": {
      "image/png": "[encoded data removed]",
      "text/plain": [
       "<Figure size 432x288 with 1 Axes>"
      ]
     },
     "metadata": {
      "needs_background": "light"
     },
     "output_type": "display_data"
    }
   ],
   "source": [
    "#____________________________________________________________ploting correct&wrong points__________________________________________________________________________\n",
    "plotData(x_test,np.array(y_test),[1,2,3], {1: 'Kama', 2: 'Rosa',3: 'Candain'})\n",
    "\n",
    "#plotting the 3 region classifiers\n",
    "plotRegions(main_fun(SVC(),1,nfit=True), x_test)\n",
    "plotRegions(main_fun(SVC(),2,nfit=True), x_test)\n",
    "plotRegions(main_fun(SVC(),3,nfit=True), x_test)\n"
   ]
  },
  {
   "cell_type": "code",
   "execution_count": 49,
   "metadata": {
    "colab": {
     "base_uri": "https://localhost:8080/",
     "height": 354
    },
    "id": "7ICyCSoXk_06",
    "outputId": "2c4e551b-e232-48cb-d42b-20cbac62b135"
   },
   "outputs": [
    {
     "name": "stdout",
     "output_type": "stream",
     "text": [
      "Accuracy = 64.29%\n",
      "[[12  0  1]\n",
      " [ 8  5  4]\n",
      " [ 2  0 10]]\n"
     ]
    },
    {
     "data": {
      "text/plain": [
       "<matplotlib.axes._subplots.AxesSubplot at 0x7fad6b16b210>"
      ]
     },
     "execution_count": 49,
     "metadata": {},
     "output_type": "execute_result"
    },
    {
     "data": {
      "image/png": "[encoded data removed]",
      "text/plain": [
       "<Figure size 432x288 with 2 Axes>"
      ]
     },
     "metadata": {
      "needs_background": "light"
     },
     "output_type": "display_data"
    }
   ],
   "source": [
    "#------------------aplling argmax to combine the three models of Perceptron--------------------------------------\n",
    "y_prb1 = main_fun(Perceptron() , 1 , accur_Per=  True)[:,1]\n",
    "y_prb2 = main_fun( Perceptron() , 2 , accur_Per = True)[:,1]\n",
    "y_prb3 = main_fun(Perceptron() , 3 , accur_Per = True)[:,1]\n",
    "#len(y_prob3)\n",
    "pred_clases = []\n",
    "for i in range(len(y_prb1)):\n",
    "  indx = np.argmax([y_prb1[i],y_prb2[i],y_prb3[i]])\n",
    "  tru_inx = indx +1\n",
    "  pred_clases.append(tru_inx)\n",
    "#print(len(pred_clases))    \n",
    "\n",
    "#----calculate the accuracy of the 3_binary classifiers of Perceptron---------------------------\n",
    "Per_acc = sum(1 for x,y in zip(pred_clases,y_test) if x == y) / float(len(pred_clases))\n",
    "#print(Per_acc)\n",
    "print(\"Accuracy = {:.2f}%\".format(Per_acc*100))\n",
    "YYY =confusion_matrix(y_test, pred_clases)\n",
    "print (YYY)\n",
    "import seaborn as sns\n",
    "sns.heatmap(YYY, annot=True)\n"
   ]
  },
  {
   "cell_type": "code",
   "execution_count": 50,
   "metadata": {
    "colab": {
     "base_uri": "https://localhost:8080/",
     "height": 295
    },
    "id": "hwIGUKU6A4Ta",
    "outputId": "87dba7b1-ab64-4431-ecd5-8de3ef318d2e"
   },
   "outputs": [
    {
     "data": {
      "image/png": "[encoded data removed]",
      "text/plain": [
       "<Figure size 432x288 with 1 Axes>"
      ]
     },
     "metadata": {
      "needs_background": "light"
     },
     "output_type": "display_data"
    }
   ],
   "source": [
    "#____________________________________________________________ploting correct&wrong points__________________________________________________________________________\n",
    "plotData(x_test,np.array(y_test),[1,2,3], {1: 'Kama', 2: 'Rosa',3: 'Candain'})\n",
    "\n",
    "#plotting the 3 region classifiers for perceptron\n",
    "plotRegions(main_fun(Perceptron(),1,nfit=True), x_test)\n",
    "plotRegions(main_fun(Perceptron(),2,nfit=True), x_test)\n",
    "plotRegions(main_fun(Perceptron(),3,nfit=True), x_test)"
   ]
  },
  {
   "cell_type": "markdown",
   "metadata": {
    "id": "0eZlpz738mIA"
   },
   "source": [
    "# Plotting correct and wrong prediction points"
   ]
  },
  {
   "cell_type": "code",
   "execution_count": 53,
   "metadata": {
    "colab": {
     "base_uri": "https://localhost:8080/",
     "height": 312
    },
    "id": "tX--MmmStT4i",
    "outputId": "3a0989cf-1679-4959-ada5-01826382524c"
   },
   "outputs": [
    {
     "data": {
      "text/plain": [
       "<matplotlib.legend.Legend at 0x7fad6abc2490>"
      ]
     },
     "execution_count": 53,
     "metadata": {},
     "output_type": "execute_result"
    },
    {
     "data": {
      "image/png": "[encoded data removed]",
      "text/plain": [
       "<Figure size 432x288 with 1 Axes>"
      ]
     },
     "metadata": {
      "needs_background": "light"
     },
     "output_type": "display_data"
    }
   ],
   "source": [
    "# this section to identify the misclassified points for SVM to be able to plot them on the graph\n",
    "ypred_tot = y_test[:]\n",
    "for i in range(len(pred_classes)):\n",
    "  if pred_classes[i] != ypred_tot[i] :\n",
    "    ypred_tot[i] = 4\n",
    "#-----------------------------------plotting--------------------------------\n",
    "cls= [1,2,3,4]\n",
    "colors = ['g', 'b', 'm','r']\n",
    "markers = ['o', '*', '+' ,'X']\n",
    "class_names ={1: 'Kama', 2: 'Rosa',3: 'Candain',4:'misclassifier'}\n",
    "for class_index in range(len(cls)):\n",
    "  plt.scatter(x_test[np.array(ypred_tot) == cls[class_index],0], x_test[np.array(ypred_tot) == cls[class_index],1], c=colors[class_index], marker=markers[class_index], label=class_names[cls[class_index]])\n",
    "Title = \"correct point vs wrong point for SVM model\"\n",
    "plt.title(Title)\n",
    "plt.xlabel('First Feature')\n",
    "plt.ylabel('Fifth Feature')\n",
    "plt.legend()"
   ]
  },
  {
   "cell_type": "code",
   "execution_count": 54,
   "metadata": {
    "colab": {
     "base_uri": "https://localhost:8080/",
     "height": 312
    },
    "id": "O7vNloswxEXL",
    "outputId": "5b15118b-f1e6-498a-e0f1-f1345028b295"
   },
   "outputs": [
    {
     "data": {
      "text/plain": [
       "<matplotlib.legend.Legend at 0x7fad6af30250>"
      ]
     },
     "execution_count": 54,
     "metadata": {},
     "output_type": "execute_result"
    },
    {
     "data": {
      "image/png": "[encoded data removed]",
      "text/plain": [
       "<Figure size 432x288 with 1 Axes>"
      ]
     },
     "metadata": {
      "needs_background": "light"
     },
     "output_type": "display_data"
    }
   ],
   "source": [
    "# this section to identify the misclassified pointsfor perceptron model to be able to plot them on the graph\n",
    "ypred_tot2 = y_test[:]\n",
    "for i in range(len(pred_clases)):\n",
    "  if pred_clases[i] != ypred_tot2[i] :\n",
    "    ypred_tot2[i] = 4\n",
    "#----------------------------------------------------------------------------------\n",
    "cls= [1,2,3,4]\n",
    "colors = ['g', 'b', 'm','r']\n",
    "markers = ['o', '*', '+' ,'X']\n",
    "class_names ={1: 'Kama', 2: 'Rosa',3: 'Candain',4:'misclassifier'}\n",
    "for class_index in range(len(cls)):\n",
    "  plt.scatter(x_test[np.array(ypred_tot2) == cls[class_index],0], x_test[np.array(ypred_tot2) == cls[class_index],1], c=colors[class_index], marker=markers[class_index], label=class_names[cls[class_index]])\n",
    "Title = \"correct point vs wrong point for perceptron model\"\n",
    "plt.title(Title)\n",
    "plt.xlabel('First Feature')\n",
    "plt.ylabel('Fifth Feature')\n",
    "plt.legend()"
   ]
  }
 ],
 "metadata": {
  "colab": {
   "collapsed_sections": [
    "BrsaFGAitvhm"
   ],
   "name": "Samah_Taher_&_Sara_Huessien.ipynb",
   "provenance": []
  },
  "kernelspec": {
   "display_name": "Python 3 (ipykernel)",
   "language": "python",
   "name": "python3"
  },
  "language_info": {
   "codemirror_mode": {
    "name": "ipython",
    "version": 3
   },
   "file_extension": ".py",
   "mimetype": "text/x-python",
   "name": "python",
   "nbconvert_exporter": "python",
   "pygments_lexer": "ipython3",
   "version": "3.8.10"
  }
 },
 "nbformat": 4,
 "nbformat_minor": 1
}
